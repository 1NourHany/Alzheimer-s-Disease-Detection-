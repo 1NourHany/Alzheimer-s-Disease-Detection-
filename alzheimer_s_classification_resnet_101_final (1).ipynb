{
  "cells": [
    {
      "metadata": {
        "id": "5wD1cLNX5lMt"
      },
      "cell_type": "markdown",
      "source": [
        "### IMPORT LIBRARIES"
      ]
    },
    {
      "metadata": {
        "_uuid": "d629ff2d2480ee46fbb7e2d37f6b5fab8052498a",
        "_cell_guid": "79c7e3d0-c299-4dcb-8224-4455121ee9b0",
        "trusted": true,
        "id": "dcq8iwDP5lMv"
      },
      "cell_type": "code",
      "source": [
        "import numpy as np\n",
        "import pandas as pd\n",
        "import matplotlib.pyplot as plt\n",
        "import seaborn as sn\n",
        "import skimage.io\n",
        "import os \n",
        "import tqdm\n",
        "import glob\n",
        "import tensorflow \n",
        "\n",
        "from tqdm import tqdm\n",
        "from sklearn.utils import shuffle\n",
        "from sklearn import metrics\n",
        "from sklearn.metrics import confusion_matrix, classification_report\n",
        "from sklearn.model_selection import train_test_split\n",
        "\n",
        "from skimage.io import imread, imshow\n",
        "from skimage.transform import resize\n",
        "from skimage.color import grey2rgb\n",
        "\n",
        "import tensorflow as tf\n",
        "from tensorflow.keras.preprocessing.image import ImageDataGenerator\n",
        "from tensorflow.keras.preprocessing import image_dataset_from_directory\n",
        "from tensorflow.keras.models import Sequential\n",
        "from tensorflow.keras.layers import InputLayer, BatchNormalization, Dropout, Flatten, Dense, Activation, MaxPool2D, Conv2D\n",
        "from tensorflow.keras.callbacks import EarlyStopping, ModelCheckpoint\n",
        "from tensorflow.keras.applications.resnet50 import ResNet50\n",
        "from tensorflow.keras.utils import to_categorical\n",
        "from keras import optimizers\n",
        "\n",
        "from keras.callbacks import Callback,ModelCheckpoint\n",
        "from keras.models import Sequential,load_model\n",
        "from keras.layers import Dense, Dropout\n",
        "from keras.wrappers.scikit_learn import KerasClassifier\n",
        "import keras.backend as K\n",
        "\n",
        "#import tensorflow_addons as tfa\n",
        "#from tensorflow.keras.metrics import Metric\n",
        "#from tensorflow_addons.utils.types import AcceptableDTypes, FloatTensorLike\n",
        "from typeguard import typechecked\n",
        "from typing import Optional"
      ],
      "execution_count": 51,
      "outputs": []
    },
    {
      "metadata": {
        "trusted": true,
        "id": "DZsmVG5H5lMy"
      },
      "cell_type": "code",
      "source": [
        "#AUTOTUNE = tf.data.experimental.AUTOTUNE"
      ],
      "execution_count": 52,
      "outputs": []
    },
    {
      "metadata": {
        "trusted": true,
        "id": "WLE4Mr0E5lMy"
      },
      "cell_type": "code",
      "source": [
        "train_datagen = ImageDataGenerator(rescale = 1./255,\n",
        "                                   rotation_range=30,\n",
        "                                   zoom_range=0.2,\n",
        "                                   horizontal_flip=True,\n",
        "                                   vertical_flip=True,\n",
        "                                   validation_split = 0.2)\n",
        "\n",
        "valid_datagen = ImageDataGenerator(rescale = 1./255,\n",
        "                                  validation_split = 0.2)\n",
        "\n",
        "test_datagen  = ImageDataGenerator(rescale = 1./255)"
      ],
      "execution_count": 53,
      "outputs": []
    },
    {
      "cell_type": "code",
      "source": [
        "! pip install -q kaggle\n",
        "from google.colab import files\n",
        "files.upload()\n",
        "! mkdir ~/.kaggle\n",
        "! cp kaggle.json ~/.kaggle/\n",
        "! chmod 600 ~/.kaggle/kaggle.json\n",
        "!kaggle datasets download -d tourist55/alzheimers-dataset-4-class-of-images"
      ],
      "metadata": {
        "colab": {
          "base_uri": "https://localhost:8080/",
          "height": 107
        },
        "id": "c_ZCJkA-wSSh",
        "outputId": "64526b00-1225-4497-d9f0-d350c48d025f"
      },
      "execution_count": 54,
      "outputs": [
        {
          "output_type": "display_data",
          "data": {
            "text/plain": [
              "<IPython.core.display.HTML object>"
            ],
            "text/html": [
              "\n",
              "     <input type=\"file\" id=\"files-5051f849-2e6f-430b-8cec-e9ae7666b96b\" name=\"files[]\" multiple disabled\n",
              "        style=\"border:none\" />\n",
              "     <output id=\"result-5051f849-2e6f-430b-8cec-e9ae7666b96b\">\n",
              "      Upload widget is only available when the cell has been executed in the\n",
              "      current browser session. Please rerun this cell to enable.\n",
              "      </output>\n",
              "      <script>// Copyright 2017 Google LLC\n",
              "//\n",
              "// Licensed under the Apache License, Version 2.0 (the \"License\");\n",
              "// you may not use this file except in compliance with the License.\n",
              "// You may obtain a copy of the License at\n",
              "//\n",
              "//      http://www.apache.org/licenses/LICENSE-2.0\n",
              "//\n",
              "// Unless required by applicable law or agreed to in writing, software\n",
              "// distributed under the License is distributed on an \"AS IS\" BASIS,\n",
              "// WITHOUT WARRANTIES OR CONDITIONS OF ANY KIND, either express or implied.\n",
              "// See the License for the specific language governing permissions and\n",
              "// limitations under the License.\n",
              "\n",
              "/**\n",
              " * @fileoverview Helpers for google.colab Python module.\n",
              " */\n",
              "(function(scope) {\n",
              "function span(text, styleAttributes = {}) {\n",
              "  const element = document.createElement('span');\n",
              "  element.textContent = text;\n",
              "  for (const key of Object.keys(styleAttributes)) {\n",
              "    element.style[key] = styleAttributes[key];\n",
              "  }\n",
              "  return element;\n",
              "}\n",
              "\n",
              "// Max number of bytes which will be uploaded at a time.\n",
              "const MAX_PAYLOAD_SIZE = 100 * 1024;\n",
              "\n",
              "function _uploadFiles(inputId, outputId) {\n",
              "  const steps = uploadFilesStep(inputId, outputId);\n",
              "  const outputElement = document.getElementById(outputId);\n",
              "  // Cache steps on the outputElement to make it available for the next call\n",
              "  // to uploadFilesContinue from Python.\n",
              "  outputElement.steps = steps;\n",
              "\n",
              "  return _uploadFilesContinue(outputId);\n",
              "}\n",
              "\n",
              "// This is roughly an async generator (not supported in the browser yet),\n",
              "// where there are multiple asynchronous steps and the Python side is going\n",
              "// to poll for completion of each step.\n",
              "// This uses a Promise to block the python side on completion of each step,\n",
              "// then passes the result of the previous step as the input to the next step.\n",
              "function _uploadFilesContinue(outputId) {\n",
              "  const outputElement = document.getElementById(outputId);\n",
              "  const steps = outputElement.steps;\n",
              "\n",
              "  const next = steps.next(outputElement.lastPromiseValue);\n",
              "  return Promise.resolve(next.value.promise).then((value) => {\n",
              "    // Cache the last promise value to make it available to the next\n",
              "    // step of the generator.\n",
              "    outputElement.lastPromiseValue = value;\n",
              "    return next.value.response;\n",
              "  });\n",
              "}\n",
              "\n",
              "/**\n",
              " * Generator function which is called between each async step of the upload\n",
              " * process.\n",
              " * @param {string} inputId Element ID of the input file picker element.\n",
              " * @param {string} outputId Element ID of the output display.\n",
              " * @return {!Iterable<!Object>} Iterable of next steps.\n",
              " */\n",
              "function* uploadFilesStep(inputId, outputId) {\n",
              "  const inputElement = document.getElementById(inputId);\n",
              "  inputElement.disabled = false;\n",
              "\n",
              "  const outputElement = document.getElementById(outputId);\n",
              "  outputElement.innerHTML = '';\n",
              "\n",
              "  const pickedPromise = new Promise((resolve) => {\n",
              "    inputElement.addEventListener('change', (e) => {\n",
              "      resolve(e.target.files);\n",
              "    });\n",
              "  });\n",
              "\n",
              "  const cancel = document.createElement('button');\n",
              "  inputElement.parentElement.appendChild(cancel);\n",
              "  cancel.textContent = 'Cancel upload';\n",
              "  const cancelPromise = new Promise((resolve) => {\n",
              "    cancel.onclick = () => {\n",
              "      resolve(null);\n",
              "    };\n",
              "  });\n",
              "\n",
              "  // Wait for the user to pick the files.\n",
              "  const files = yield {\n",
              "    promise: Promise.race([pickedPromise, cancelPromise]),\n",
              "    response: {\n",
              "      action: 'starting',\n",
              "    }\n",
              "  };\n",
              "\n",
              "  cancel.remove();\n",
              "\n",
              "  // Disable the input element since further picks are not allowed.\n",
              "  inputElement.disabled = true;\n",
              "\n",
              "  if (!files) {\n",
              "    return {\n",
              "      response: {\n",
              "        action: 'complete',\n",
              "      }\n",
              "    };\n",
              "  }\n",
              "\n",
              "  for (const file of files) {\n",
              "    const li = document.createElement('li');\n",
              "    li.append(span(file.name, {fontWeight: 'bold'}));\n",
              "    li.append(span(\n",
              "        `(${file.type || 'n/a'}) - ${file.size} bytes, ` +\n",
              "        `last modified: ${\n",
              "            file.lastModifiedDate ? file.lastModifiedDate.toLocaleDateString() :\n",
              "                                    'n/a'} - `));\n",
              "    const percent = span('0% done');\n",
              "    li.appendChild(percent);\n",
              "\n",
              "    outputElement.appendChild(li);\n",
              "\n",
              "    const fileDataPromise = new Promise((resolve) => {\n",
              "      const reader = new FileReader();\n",
              "      reader.onload = (e) => {\n",
              "        resolve(e.target.result);\n",
              "      };\n",
              "      reader.readAsArrayBuffer(file);\n",
              "    });\n",
              "    // Wait for the data to be ready.\n",
              "    let fileData = yield {\n",
              "      promise: fileDataPromise,\n",
              "      response: {\n",
              "        action: 'continue',\n",
              "      }\n",
              "    };\n",
              "\n",
              "    // Use a chunked sending to avoid message size limits. See b/62115660.\n",
              "    let position = 0;\n",
              "    do {\n",
              "      const length = Math.min(fileData.byteLength - position, MAX_PAYLOAD_SIZE);\n",
              "      const chunk = new Uint8Array(fileData, position, length);\n",
              "      position += length;\n",
              "\n",
              "      const base64 = btoa(String.fromCharCode.apply(null, chunk));\n",
              "      yield {\n",
              "        response: {\n",
              "          action: 'append',\n",
              "          file: file.name,\n",
              "          data: base64,\n",
              "        },\n",
              "      };\n",
              "\n",
              "      let percentDone = fileData.byteLength === 0 ?\n",
              "          100 :\n",
              "          Math.round((position / fileData.byteLength) * 100);\n",
              "      percent.textContent = `${percentDone}% done`;\n",
              "\n",
              "    } while (position < fileData.byteLength);\n",
              "  }\n",
              "\n",
              "  // All done.\n",
              "  yield {\n",
              "    response: {\n",
              "      action: 'complete',\n",
              "    }\n",
              "  };\n",
              "}\n",
              "\n",
              "scope.google = scope.google || {};\n",
              "scope.google.colab = scope.google.colab || {};\n",
              "scope.google.colab._files = {\n",
              "  _uploadFiles,\n",
              "  _uploadFilesContinue,\n",
              "};\n",
              "})(self);\n",
              "</script> "
            ]
          },
          "metadata": {}
        },
        {
          "output_type": "stream",
          "name": "stdout",
          "text": [
            "Saving kaggle.json to kaggle (2).json\n",
            "mkdir: cannot create directory ‘/root/.kaggle’: File exists\n",
            "alzheimers-dataset-4-class-of-images.zip: Skipping, found more recently modified local copy (use --force to force download)\n"
          ]
        }
      ]
    },
    {
      "cell_type": "code",
      "source": [
        "import zipfile\n",
        "local_zip = '/content/alzheimers-dataset-4-class-of-images.zip'\n",
        "data = zipfile.ZipFile(local_zip, 'r')\n",
        "data.extractall('/content/Alzheimer_s Dataset')\n",
        "data.close()"
      ],
      "metadata": {
        "id": "9GufGOFewXY_"
      },
      "execution_count": 55,
      "outputs": []
    },
    {
      "metadata": {
        "trusted": true,
        "colab": {
          "base_uri": "https://localhost:8080/"
        },
        "id": "mJnhg9ny5lMz",
        "outputId": "abf25072-add3-4926-9365-edc7be5dc1ed"
      },
      "cell_type": "code",
      "source": [
        "\n",
        "train_dataset  = train_datagen.flow_from_directory(directory = '/content/Alzheimer_s Dataset/Alzheimer_s Dataset/train',\n",
        "                                                   target_size = (224,224),\n",
        "                                                   class_mode = 'categorical',\n",
        "                                                   subset = 'training',\n",
        "                                                   shuffle=True,\n",
        "                                                   batch_size = 128)"
      ],
      "execution_count": 100,
      "outputs": [
        {
          "output_type": "stream",
          "name": "stdout",
          "text": [
            "Found 4098 images belonging to 4 classes.\n"
          ]
        }
      ]
    },
    {
      "metadata": {
        "trusted": true,
        "colab": {
          "base_uri": "https://localhost:8080/"
        },
        "id": "Cfb6vaNW5lM0",
        "outputId": "827e8082-81c2-4097-92ef-8a6372cfcf4e"
      },
      "cell_type": "code",
      "source": [
        "\n",
        "valid_dataset = valid_datagen.flow_from_directory(directory = '/content/Alzheimer_s Dataset/Alzheimer_s Dataset/train',\n",
        "                                                  target_size = (224,224),\n",
        "                                                  class_mode = 'categorical',\n",
        "                                                  subset = 'validation',\n",
        "                                                  shuffle=True,\n",
        "                                                  batch_size = 128)"
      ],
      "execution_count": 101,
      "outputs": [
        {
          "output_type": "stream",
          "name": "stdout",
          "text": [
            "Found 1023 images belonging to 4 classes.\n"
          ]
        }
      ]
    },
    {
      "metadata": {
        "trusted": true,
        "colab": {
          "base_uri": "https://localhost:8080/"
        },
        "id": "koCkeSSQ5lM1",
        "outputId": "bab29e56-3d1f-4bf1-b8b9-f0293d48e175"
      },
      "cell_type": "code",
      "source": [
        "#test_dataset = tf.keras.preprocessing.image_dataset_from_directory(\"../input/alzheimers-dataset-4-class-of-images/Alzheimer_s Dataset/test\",\n",
        "##                                                            shuffle=False,\n",
        "#                                                            image_size=(224,224),\n",
        "#                                                            batch_size=32,\n",
        "#)\n",
        "\n",
        "test_dataset = test_datagen.flow_from_directory(directory = '/content/Alzheimer_s Dataset/Alzheimer_s Dataset/test',\n",
        "                                                  target_size = (224,224),\n",
        "                                                  class_mode = 'categorical',\n",
        "                                                batch_size = 1, shuffle = False\n",
        "                                              )"
      ],
      "execution_count": 102,
      "outputs": [
        {
          "output_type": "stream",
          "name": "stdout",
          "text": [
            "Found 1279 images belonging to 4 classes.\n"
          ]
        }
      ]
    },
    {
      "metadata": {
        "id": "kX-JwANu5lM2"
      },
      "cell_type": "markdown",
      "source": [
        "## feature preprocessing and label encoding."
      ]
    },
    {
      "metadata": {
        "id": "biUGuFoC5lM3"
      },
      "cell_type": "markdown",
      "source": [
        "### MODEL BUILDING"
      ]
    },
    {
      "metadata": {
        "trusted": true,
        "id": "HCTgj2cH5lM4"
      },
      "cell_type": "code",
      "source": [
        "from tensorflow.keras.applications import ResNet101 # ResNet 101\n",
        "base_model = ResNet101(input_shape=(224,224,3), weights='imagenet', include_top=False)\n"
      ],
      "execution_count": 103,
      "outputs": []
    },
    {
      "metadata": {
        "trusted": true,
        "id": "kCr05aPl5lM5"
      },
      "cell_type": "code",
      "source": [
        "# Freezing Layers\n",
        "\n",
        "for layer in base_model.layers:\n",
        "    layer.trainable = False\n"
      ],
      "execution_count": 104,
      "outputs": []
    },
    {
      "metadata": {
        "trusted": true,
        "id": "YrQoHPMR5lM5"
      },
      "cell_type": "code",
      "source": [
        "# Building Model\n",
        "\n",
        "model=Sequential()\n",
        "model.add(base_model)\n",
        "model.add(Dropout(0.5))\n",
        "model.add(Flatten())\n",
        "model.add(BatchNormalization())\n",
        "model.add(Dense(2048,kernel_initializer='he_uniform'))\n",
        "model.add(BatchNormalization())\n",
        "model.add(Activation('relu'))\n",
        "model.add(Dropout(0.5))\n",
        "model.add(Dense(1024,kernel_initializer='he_uniform'))\n",
        "model.add(BatchNormalization())\n",
        "model.add(Activation('relu'))\n",
        "model.add(Dropout(0.5))\n",
        "model.add(Dense(4,activation='softmax'))"
      ],
      "execution_count": 105,
      "outputs": []
    },
    {
      "cell_type": "code",
      "source": [
        "#pretrained_model = tf.keras.applications.resnet50.ResNet50(\n",
        "#                    input_shape=(224, 224, 3),\n",
        "#                    include_top=False,\n",
        " #                   weights= None ,\n",
        "  #                  pooling='avg')\n",
        "\n",
        "#pretrained_model.trainable = False\n",
        "#inputs = pretrained_model.input\n",
        "#x = tf.keras.layers.Dense(128, activation='relu')(pretrained_model.output)\n",
        "#x = tf.keras.layers.Dense(50, activation='relu')(x)\n",
        "#outputs = tf.keras.layers.Dense(4, activation='softmax')(x)\n",
        "#model = tf.keras.Model(inputs, outputs)\n",
        "#print(model.summary())"
      ],
      "metadata": {
        "id": "drRq-NMcJ1iK"
      },
      "execution_count": 106,
      "outputs": []
    },
    {
      "metadata": {
        "trusted": true,
        "colab": {
          "base_uri": "https://localhost:8080/"
        },
        "id": "5_YnHkTh5lM6",
        "outputId": "277b6935-08f3-42a7-bb30-79feec1b47c5"
      },
      "cell_type": "code",
      "source": [
        "# Model Summary\n",
        "\n",
        "model.summary()"
      ],
      "execution_count": 107,
      "outputs": [
        {
          "output_type": "stream",
          "name": "stdout",
          "text": [
            "Model: \"sequential_5\"\n",
            "_________________________________________________________________\n",
            " Layer (type)                Output Shape              Param #   \n",
            "=================================================================\n",
            " resnet101 (Functional)      (None, 7, 7, 2048)        42658176  \n",
            "                                                                 \n",
            " dropout_12 (Dropout)        (None, 7, 7, 2048)        0         \n",
            "                                                                 \n",
            " flatten_4 (Flatten)         (None, 100352)            0         \n",
            "                                                                 \n",
            " batch_normalization_12 (Bat  (None, 100352)           401408    \n",
            " chNormalization)                                                \n",
            "                                                                 \n",
            " dense_12 (Dense)            (None, 2048)              205522944 \n",
            "                                                                 \n",
            " batch_normalization_13 (Bat  (None, 2048)             8192      \n",
            " chNormalization)                                                \n",
            "                                                                 \n",
            " activation_8 (Activation)   (None, 2048)              0         \n",
            "                                                                 \n",
            " dropout_13 (Dropout)        (None, 2048)              0         \n",
            "                                                                 \n",
            " dense_13 (Dense)            (None, 1024)              2098176   \n",
            "                                                                 \n",
            " batch_normalization_14 (Bat  (None, 1024)             4096      \n",
            " chNormalization)                                                \n",
            "                                                                 \n",
            " activation_9 (Activation)   (None, 1024)              0         \n",
            "                                                                 \n",
            " dropout_14 (Dropout)        (None, 1024)              0         \n",
            "                                                                 \n",
            " dense_14 (Dense)            (None, 4)                 4100      \n",
            "                                                                 \n",
            "=================================================================\n",
            "Total params: 250,697,092\n",
            "Trainable params: 207,832,068\n",
            "Non-trainable params: 42,865,024\n",
            "_________________________________________________________________\n"
          ]
        }
      ]
    },
    {
      "metadata": {
        "trusted": true,
        "id": "juvTeD135lM6"
      },
      "cell_type": "code",
      "source": [
        "def f1_score(y_true, y_pred): #taken from old keras source code\n",
        "    true_positives = K.sum(K.round(K.clip(y_true * y_pred, 0, 1)))\n",
        "    possible_positives = K.sum(K.round(K.clip(y_true, 0, 1)))\n",
        "    predicted_positives = K.sum(K.round(K.clip(y_pred, 0, 1)))\n",
        "    precision = true_positives / (predicted_positives + K.epsilon())\n",
        "    recall = true_positives / (possible_positives + K.epsilon())\n",
        "    f1_val = 2*(precision*recall)/(precision+recall+K.epsilon())\n",
        "    return f1_val"
      ],
      "execution_count": 108,
      "outputs": []
    },
    {
      "cell_type": "code",
      "source": [
        "# Model Compile \n",
        "\n",
        "OPT    = tensorflow.keras.optimizers.Adam(lr=0.001) #improve weights \n",
        "METRICS = [\n",
        "      tensorflow.keras.metrics.CategoricalAccuracy(name='Categorical Accuracy'),\n",
        "      tensorflow.keras.metrics.Precision(name='precision'),\n",
        "      tensorflow.keras.metrics.Recall(name='recall'),\n",
        "      tensorflow.keras.metrics.AUC(name='auc') ,\n",
        "        f1_score,\n",
        "          ]\n",
        "model.compile(loss='categorical_crossentropy',\n",
        "              metrics=METRICS,\n",
        "              optimizer=OPT)"
      ],
      "metadata": {
        "id": "D3wwQ89A9Mdd"
      },
      "execution_count": 109,
      "outputs": []
    },
    {
      "cell_type": "code",
      "source": [
        "from google.colab import drive\n",
        "drive.mount('/content/drive')"
      ],
      "metadata": {
        "colab": {
          "base_uri": "https://localhost:8080/"
        },
        "id": "CVcMp75IEVUq",
        "outputId": "7d273392-5ad8-4625-8c20-496ee6140974"
      },
      "execution_count": 110,
      "outputs": [
        {
          "output_type": "stream",
          "name": "stdout",
          "text": [
            "Drive already mounted at /content/drive; to attempt to forcibly remount, call drive.mount(\"/content/drive\", force_remount=True).\n"
          ]
        }
      ]
    },
    {
      "cell_type": "code",
      "source": [
        "filepath = '/content/drive/MyDrive/best_weights_resnet50_final.hdf5'\n",
        "\n",
        "earlystopping = EarlyStopping(monitor = 'val_Categorical Accuracy', \n",
        "                              mode = 'max' , \n",
        "                              patience = 25,\n",
        "                              verbose = 1)\n",
        "\n",
        "checkpoint    = ModelCheckpoint(filepath, \n",
        "                                monitor = 'val_Categorical Accuracy', \n",
        "                                mode='max', \n",
        "                                save_best_only=True, \n",
        "                                verbose = 1)\n",
        "\n",
        "\n",
        "callback_list = [earlystopping, checkpoint]"
      ],
      "metadata": {
        "id": "jUwLnU5k9QJE"
      },
      "execution_count": 111,
      "outputs": []
    },
    {
      "cell_type": "code",
      "source": [],
      "metadata": {
        "id": "VKFXmnp_nVPj"
      },
      "execution_count": 111,
      "outputs": []
    },
    {
      "metadata": {
        "trusted": true,
        "colab": {
          "base_uri": "https://localhost:8080/"
        },
        "id": "orlzQ84M5lM8",
        "outputId": "1bfda93d-3ed3-42f9-ce33-a064d79810fd"
      },
      "cell_type": "code",
      "source": [
        "history=model.fit(train_dataset,\n",
        "                        validation_data=valid_dataset,\n",
        "                        epochs = 100,\n",
        "                        verbose = 1,\n",
        "                         callbacks=callback_list)"
      ],
      "execution_count": 112,
      "outputs": [
        {
          "output_type": "stream",
          "name": "stdout",
          "text": [
            "Epoch 1/100\n",
            "33/33 [==============================] - ETA: 0s - loss: 1.5205 - Categorical Accuracy: 0.4568 - precision: 0.4717 - recall: 0.4126 - auc: 0.7419 - f1_score: 0.4403\n",
            "Epoch 1: val_Categorical Accuracy improved from -inf to 0.31476, saving model to /content/drive/MyDrive/best_weights_resnet50_final.hdf5\n",
            "33/33 [==============================] - 86s 2s/step - loss: 1.5205 - Categorical Accuracy: 0.4568 - precision: 0.4717 - recall: 0.4126 - auc: 0.7419 - f1_score: 0.4403 - val_loss: 1.8511 - val_Categorical Accuracy: 0.3148 - val_precision: 0.3053 - val_recall: 0.2874 - val_auc: 0.6083 - val_f1_score: 0.2958\n",
            "Epoch 2/100\n",
            "33/33 [==============================] - ETA: 0s - loss: 1.2434 - Categorical Accuracy: 0.4905 - precision: 0.5154 - recall: 0.4368 - auc: 0.7820 - f1_score: 0.4788\n",
            "Epoch 2: val_Categorical Accuracy improved from 0.31476 to 0.48387, saving model to /content/drive/MyDrive/best_weights_resnet50_final.hdf5\n",
            "33/33 [==============================] - 76s 2s/step - loss: 1.2434 - Categorical Accuracy: 0.4905 - precision: 0.5154 - recall: 0.4368 - auc: 0.7820 - f1_score: 0.4788 - val_loss: 1.3503 - val_Categorical Accuracy: 0.4839 - val_precision: 0.4835 - val_recall: 0.3441 - val_auc: 0.7188 - val_f1_score: 0.4021\n",
            "Epoch 3/100\n",
            "33/33 [==============================] - ETA: 0s - loss: 1.1691 - Categorical Accuracy: 0.5066 - precision: 0.5316 - recall: 0.4439 - auc: 0.7950 - f1_score: 0.4992\n",
            "Epoch 3: val_Categorical Accuracy did not improve from 0.48387\n",
            "33/33 [==============================] - 66s 2s/step - loss: 1.1691 - Categorical Accuracy: 0.5066 - precision: 0.5316 - recall: 0.4439 - auc: 0.7950 - f1_score: 0.4992 - val_loss: 1.3744 - val_Categorical Accuracy: 0.3157 - val_precision: 0.2953 - val_recall: 0.1848 - val_auc: 0.6397 - val_f1_score: 0.2271\n",
            "Epoch 4/100\n",
            "33/33 [==============================] - ETA: 0s - loss: 1.1211 - Categorical Accuracy: 0.5049 - precision: 0.5487 - recall: 0.4385 - auc: 0.7965 - f1_score: 0.4724\n",
            "Epoch 4: val_Categorical Accuracy did not improve from 0.48387\n",
            "33/33 [==============================] - 57s 2s/step - loss: 1.1211 - Categorical Accuracy: 0.5049 - precision: 0.5487 - recall: 0.4385 - auc: 0.7965 - f1_score: 0.4724 - val_loss: 1.2264 - val_Categorical Accuracy: 0.3558 - val_precision: 0.4302 - val_recall: 0.1896 - val_auc: 0.6799 - val_f1_score: 0.2630\n",
            "Epoch 5/100\n",
            "33/33 [==============================] - ETA: 0s - loss: 1.0953 - Categorical Accuracy: 0.4976 - precision: 0.5326 - recall: 0.4246 - auc: 0.7979 - f1_score: 0.4584\n",
            "Epoch 5: val_Categorical Accuracy did not improve from 0.48387\n",
            "33/33 [==============================] - 56s 2s/step - loss: 1.0953 - Categorical Accuracy: 0.4976 - precision: 0.5326 - recall: 0.4246 - auc: 0.7979 - f1_score: 0.4584 - val_loss: 1.2587 - val_Categorical Accuracy: 0.2776 - val_precision: 0.3248 - val_recall: 0.1486 - val_auc: 0.6663 - val_f1_score: 0.2036\n",
            "Epoch 6/100\n",
            "33/33 [==============================] - ETA: 0s - loss: 1.0556 - Categorical Accuracy: 0.5307 - precision: 0.5684 - recall: 0.4524 - auc: 0.8125 - f1_score: 0.5037\n",
            "Epoch 6: val_Categorical Accuracy did not improve from 0.48387\n",
            "33/33 [==============================] - 56s 2s/step - loss: 1.0556 - Categorical Accuracy: 0.5307 - precision: 0.5684 - recall: 0.4524 - auc: 0.8125 - f1_score: 0.5037 - val_loss: 1.1294 - val_Categorical Accuracy: 0.3930 - val_precision: 0.4478 - val_recall: 0.2307 - val_auc: 0.7456 - val_f1_score: 0.3037\n",
            "Epoch 7/100\n",
            "33/33 [==============================] - ETA: 0s - loss: 1.0342 - Categorical Accuracy: 0.5347 - precision: 0.5700 - recall: 0.4412 - auc: 0.8146 - f1_score: 0.4970\n",
            "Epoch 7: val_Categorical Accuracy did not improve from 0.48387\n",
            "33/33 [==============================] - 56s 2s/step - loss: 1.0342 - Categorical Accuracy: 0.5347 - precision: 0.5700 - recall: 0.4412 - auc: 0.8146 - f1_score: 0.4970 - val_loss: 1.2074 - val_Categorical Accuracy: 0.3451 - val_precision: 0.4267 - val_recall: 0.2219 - val_auc: 0.6969 - val_f1_score: 0.2914\n",
            "Epoch 8/100\n",
            "33/33 [==============================] - ETA: 0s - loss: 1.0071 - Categorical Accuracy: 0.5395 - precision: 0.5888 - recall: 0.4456 - auc: 0.8219 - f1_score: 0.5068\n",
            "Epoch 8: val_Categorical Accuracy did not improve from 0.48387\n",
            "33/33 [==============================] - 55s 2s/step - loss: 1.0071 - Categorical Accuracy: 0.5395 - precision: 0.5888 - recall: 0.4456 - auc: 0.8219 - f1_score: 0.5068 - val_loss: 1.1709 - val_Categorical Accuracy: 0.3988 - val_precision: 0.4824 - val_recall: 0.2678 - val_auc: 0.7332 - val_f1_score: 0.3433\n",
            "Epoch 9/100\n",
            "33/33 [==============================] - ETA: 0s - loss: 1.0028 - Categorical Accuracy: 0.5344 - precision: 0.5779 - recall: 0.4361 - auc: 0.8205 - f1_score: 0.5016\n",
            "Epoch 9: val_Categorical Accuracy did not improve from 0.48387\n",
            "33/33 [==============================] - 56s 2s/step - loss: 1.0028 - Categorical Accuracy: 0.5344 - precision: 0.5779 - recall: 0.4361 - auc: 0.8205 - f1_score: 0.5016 - val_loss: 1.1008 - val_Categorical Accuracy: 0.4223 - val_precision: 0.5610 - val_recall: 0.2473 - val_auc: 0.7490 - val_f1_score: 0.3433\n",
            "Epoch 10/100\n",
            "33/33 [==============================] - ETA: 0s - loss: 1.0044 - Categorical Accuracy: 0.5246 - precision: 0.5745 - recall: 0.4366 - auc: 0.8170 - f1_score: 0.4962\n",
            "Epoch 10: val_Categorical Accuracy did not improve from 0.48387\n",
            "33/33 [==============================] - 56s 2s/step - loss: 1.0044 - Categorical Accuracy: 0.5246 - precision: 0.5745 - recall: 0.4366 - auc: 0.8170 - f1_score: 0.4962 - val_loss: 1.1776 - val_Categorical Accuracy: 0.4213 - val_precision: 0.4196 - val_recall: 0.2678 - val_auc: 0.7344 - val_f1_score: 0.3271\n",
            "Epoch 11/100\n",
            "33/33 [==============================] - ETA: 0s - loss: 0.9751 - Categorical Accuracy: 0.5390 - precision: 0.5916 - recall: 0.4224 - auc: 0.8227 - f1_score: 0.4978\n",
            "Epoch 11: val_Categorical Accuracy did not improve from 0.48387\n",
            "33/33 [==============================] - 57s 2s/step - loss: 0.9751 - Categorical Accuracy: 0.5390 - precision: 0.5916 - recall: 0.4224 - auc: 0.8227 - f1_score: 0.4978 - val_loss: 1.1752 - val_Categorical Accuracy: 0.4321 - val_precision: 0.4597 - val_recall: 0.2678 - val_auc: 0.7364 - val_f1_score: 0.3385\n",
            "Epoch 12/100\n",
            "33/33 [==============================] - ETA: 0s - loss: 0.9523 - Categorical Accuracy: 0.5625 - precision: 0.6172 - recall: 0.4453 - auc: 0.8338 - f1_score: 0.5219\n",
            "Epoch 12: val_Categorical Accuracy did not improve from 0.48387\n",
            "33/33 [==============================] - 56s 2s/step - loss: 0.9523 - Categorical Accuracy: 0.5625 - precision: 0.6172 - recall: 0.4453 - auc: 0.8338 - f1_score: 0.5219 - val_loss: 1.1766 - val_Categorical Accuracy: 0.3998 - val_precision: 0.4811 - val_recall: 0.2737 - val_auc: 0.7342 - val_f1_score: 0.3491\n",
            "Epoch 13/100\n",
            "33/33 [==============================] - ETA: 0s - loss: 0.9518 - Categorical Accuracy: 0.5522 - precision: 0.6107 - recall: 0.4353 - auc: 0.8307 - f1_score: 0.5077\n",
            "Epoch 13: val_Categorical Accuracy did not improve from 0.48387\n",
            "33/33 [==============================] - 56s 2s/step - loss: 0.9518 - Categorical Accuracy: 0.5522 - precision: 0.6107 - recall: 0.4353 - auc: 0.8307 - f1_score: 0.5077 - val_loss: 1.1192 - val_Categorical Accuracy: 0.4721 - val_precision: 0.5317 - val_recall: 0.2952 - val_auc: 0.7589 - val_f1_score: 0.3792\n",
            "Epoch 14/100\n",
            "33/33 [==============================] - ETA: 0s - loss: 0.9751 - Categorical Accuracy: 0.5417 - precision: 0.5907 - recall: 0.4356 - auc: 0.8245 - f1_score: 0.4861\n",
            "Epoch 14: val_Categorical Accuracy did not improve from 0.48387\n",
            "33/33 [==============================] - 56s 2s/step - loss: 0.9751 - Categorical Accuracy: 0.5417 - precision: 0.5907 - recall: 0.4356 - auc: 0.8245 - f1_score: 0.4861 - val_loss: 1.1653 - val_Categorical Accuracy: 0.3959 - val_precision: 0.5512 - val_recall: 0.3050 - val_auc: 0.7379 - val_f1_score: 0.3921\n",
            "Epoch 15/100\n",
            "33/33 [==============================] - ETA: 0s - loss: 0.9638 - Categorical Accuracy: 0.5478 - precision: 0.6029 - recall: 0.4368 - auc: 0.8286 - f1_score: 0.5109\n",
            "Epoch 15: val_Categorical Accuracy did not improve from 0.48387\n",
            "33/33 [==============================] - 56s 2s/step - loss: 0.9638 - Categorical Accuracy: 0.5478 - precision: 0.6029 - recall: 0.4368 - auc: 0.8286 - f1_score: 0.5109 - val_loss: 1.0797 - val_Categorical Accuracy: 0.4418 - val_precision: 0.5770 - val_recall: 0.2893 - val_auc: 0.7616 - val_f1_score: 0.3848\n",
            "Epoch 16/100\n",
            "33/33 [==============================] - ETA: 0s - loss: 0.9486 - Categorical Accuracy: 0.5451 - precision: 0.6130 - recall: 0.4356 - auc: 0.8330 - f1_score: 0.5086\n",
            "Epoch 16: val_Categorical Accuracy improved from 0.48387 to 0.50049, saving model to /content/drive/MyDrive/best_weights_resnet50_final.hdf5\n",
            "33/33 [==============================] - 77s 2s/step - loss: 0.9486 - Categorical Accuracy: 0.5451 - precision: 0.6130 - recall: 0.4356 - auc: 0.8330 - f1_score: 0.5086 - val_loss: 1.1147 - val_Categorical Accuracy: 0.5005 - val_precision: 0.5617 - val_recall: 0.3783 - val_auc: 0.7759 - val_f1_score: 0.4519\n",
            "Epoch 17/100\n",
            "33/33 [==============================] - ETA: 0s - loss: 0.9437 - Categorical Accuracy: 0.5549 - precision: 0.6115 - recall: 0.4417 - auc: 0.8346 - f1_score: 0.5124\n",
            "Epoch 17: val_Categorical Accuracy did not improve from 0.50049\n",
            "33/33 [==============================] - 61s 2s/step - loss: 0.9437 - Categorical Accuracy: 0.5549 - precision: 0.6115 - recall: 0.4417 - auc: 0.8346 - f1_score: 0.5124 - val_loss: 1.1181 - val_Categorical Accuracy: 0.3959 - val_precision: 0.5574 - val_recall: 0.2893 - val_auc: 0.7412 - val_f1_score: 0.3810\n",
            "Epoch 18/100\n",
            "33/33 [==============================] - ETA: 0s - loss: 0.9307 - Categorical Accuracy: 0.5661 - precision: 0.6265 - recall: 0.4368 - auc: 0.8378 - f1_score: 0.5140\n",
            "Epoch 18: val_Categorical Accuracy did not improve from 0.50049\n",
            "33/33 [==============================] - 56s 2s/step - loss: 0.9307 - Categorical Accuracy: 0.5661 - precision: 0.6265 - recall: 0.4368 - auc: 0.8378 - f1_score: 0.5140 - val_loss: 1.1636 - val_Categorical Accuracy: 0.4086 - val_precision: 0.6004 - val_recall: 0.3099 - val_auc: 0.7393 - val_f1_score: 0.4070\n",
            "Epoch 19/100\n",
            "33/33 [==============================] - ETA: 0s - loss: 0.9375 - Categorical Accuracy: 0.5576 - precision: 0.6081 - recall: 0.4392 - auc: 0.8350 - f1_score: 0.5247\n",
            "Epoch 19: val_Categorical Accuracy did not improve from 0.50049\n",
            "33/33 [==============================] - 55s 2s/step - loss: 0.9375 - Categorical Accuracy: 0.5576 - precision: 0.6081 - recall: 0.4392 - auc: 0.8350 - f1_score: 0.5247 - val_loss: 1.1044 - val_Categorical Accuracy: 0.4301 - val_precision: 0.6032 - val_recall: 0.2972 - val_auc: 0.7547 - val_f1_score: 0.3980\n",
            "Epoch 20/100\n",
            "33/33 [==============================] - ETA: 0s - loss: 0.9349 - Categorical Accuracy: 0.5576 - precision: 0.6149 - recall: 0.4348 - auc: 0.8355 - f1_score: 0.4943\n",
            "Epoch 20: val_Categorical Accuracy did not improve from 0.50049\n",
            "33/33 [==============================] - 57s 2s/step - loss: 0.9349 - Categorical Accuracy: 0.5576 - precision: 0.6149 - recall: 0.4348 - auc: 0.8355 - f1_score: 0.4943 - val_loss: 1.1434 - val_Categorical Accuracy: 0.4135 - val_precision: 0.5964 - val_recall: 0.3206 - val_auc: 0.7464 - val_f1_score: 0.4170\n",
            "Epoch 21/100\n",
            "33/33 [==============================] - ETA: 0s - loss: 0.9220 - Categorical Accuracy: 0.5664 - precision: 0.6290 - recall: 0.4485 - auc: 0.8407 - f1_score: 0.5227\n",
            "Epoch 21: val_Categorical Accuracy did not improve from 0.50049\n",
            "33/33 [==============================] - 55s 2s/step - loss: 0.9220 - Categorical Accuracy: 0.5664 - precision: 0.6290 - recall: 0.4485 - auc: 0.8407 - f1_score: 0.5227 - val_loss: 1.1337 - val_Categorical Accuracy: 0.4047 - val_precision: 0.5213 - val_recall: 0.3109 - val_auc: 0.7492 - val_f1_score: 0.3889\n",
            "Epoch 22/100\n",
            "33/33 [==============================] - ETA: 0s - loss: 0.9208 - Categorical Accuracy: 0.5722 - precision: 0.6449 - recall: 0.4334 - auc: 0.8409 - f1_score: 0.5223\n",
            "Epoch 22: val_Categorical Accuracy did not improve from 0.50049\n",
            "33/33 [==============================] - 55s 2s/step - loss: 0.9208 - Categorical Accuracy: 0.5722 - precision: 0.6449 - recall: 0.4334 - auc: 0.8409 - f1_score: 0.5223 - val_loss: 1.1578 - val_Categorical Accuracy: 0.4145 - val_precision: 0.4875 - val_recall: 0.2854 - val_auc: 0.7423 - val_f1_score: 0.3595\n",
            "Epoch 23/100\n",
            "33/33 [==============================] - ETA: 0s - loss: 0.9283 - Categorical Accuracy: 0.5603 - precision: 0.6194 - recall: 0.4475 - auc: 0.8381 - f1_score: 0.5038\n",
            "Epoch 23: val_Categorical Accuracy did not improve from 0.50049\n",
            "33/33 [==============================] - 56s 2s/step - loss: 0.9283 - Categorical Accuracy: 0.5603 - precision: 0.6194 - recall: 0.4475 - auc: 0.8381 - f1_score: 0.5038 - val_loss: 1.2320 - val_Categorical Accuracy: 0.4194 - val_precision: 0.4097 - val_recall: 0.3304 - val_auc: 0.7296 - val_f1_score: 0.3658\n",
            "Epoch 24/100\n",
            "33/33 [==============================] - ETA: 0s - loss: 0.9161 - Categorical Accuracy: 0.5612 - precision: 0.6262 - recall: 0.4468 - auc: 0.8411 - f1_score: 0.5358\n",
            "Epoch 24: val_Categorical Accuracy did not improve from 0.50049\n",
            "33/33 [==============================] - 55s 2s/step - loss: 0.9161 - Categorical Accuracy: 0.5612 - precision: 0.6262 - recall: 0.4468 - auc: 0.8411 - f1_score: 0.5358 - val_loss: 1.1474 - val_Categorical Accuracy: 0.4448 - val_precision: 0.5086 - val_recall: 0.3196 - val_auc: 0.7523 - val_f1_score: 0.3922\n",
            "Epoch 25/100\n",
            "33/33 [==============================] - ETA: 0s - loss: 0.9013 - Categorical Accuracy: 0.5739 - precision: 0.6383 - recall: 0.4551 - auc: 0.8471 - f1_score: 0.5299\n",
            "Epoch 25: val_Categorical Accuracy did not improve from 0.50049\n",
            "33/33 [==============================] - 56s 2s/step - loss: 0.9013 - Categorical Accuracy: 0.5739 - precision: 0.6383 - recall: 0.4551 - auc: 0.8471 - f1_score: 0.5299 - val_loss: 1.2401 - val_Categorical Accuracy: 0.3744 - val_precision: 0.4683 - val_recall: 0.2884 - val_auc: 0.7139 - val_f1_score: 0.3574\n",
            "Epoch 26/100\n",
            "33/33 [==============================] - ETA: 0s - loss: 0.9083 - Categorical Accuracy: 0.5666 - precision: 0.6316 - recall: 0.4380 - auc: 0.8442 - f1_score: 0.5166\n",
            "Epoch 26: val_Categorical Accuracy did not improve from 0.50049\n",
            "33/33 [==============================] - 55s 2s/step - loss: 0.9083 - Categorical Accuracy: 0.5666 - precision: 0.6316 - recall: 0.4380 - auc: 0.8442 - f1_score: 0.5166 - val_loss: 1.2295 - val_Categorical Accuracy: 0.3744 - val_precision: 0.4865 - val_recall: 0.2815 - val_auc: 0.7180 - val_f1_score: 0.3567\n",
            "Epoch 27/100\n",
            "33/33 [==============================] - ETA: 0s - loss: 0.9161 - Categorical Accuracy: 0.5647 - precision: 0.6237 - recall: 0.4466 - auc: 0.8414 - f1_score: 0.5046\n",
            "Epoch 27: val_Categorical Accuracy did not improve from 0.50049\n",
            "33/33 [==============================] - 55s 2s/step - loss: 0.9161 - Categorical Accuracy: 0.5647 - precision: 0.6237 - recall: 0.4466 - auc: 0.8414 - f1_score: 0.5046 - val_loss: 1.1678 - val_Categorical Accuracy: 0.4291 - val_precision: 0.4762 - val_recall: 0.3128 - val_auc: 0.7500 - val_f1_score: 0.3775\n",
            "Epoch 28/100\n",
            "33/33 [==============================] - ETA: 0s - loss: 0.8958 - Categorical Accuracy: 0.5722 - precision: 0.6466 - recall: 0.4439 - auc: 0.8482 - f1_score: 0.5403\n",
            "Epoch 28: val_Categorical Accuracy did not improve from 0.50049\n",
            "33/33 [==============================] - 56s 2s/step - loss: 0.8958 - Categorical Accuracy: 0.5722 - precision: 0.6466 - recall: 0.4439 - auc: 0.8482 - f1_score: 0.5403 - val_loss: 1.1491 - val_Categorical Accuracy: 0.4174 - val_precision: 0.5672 - val_recall: 0.3177 - val_auc: 0.7544 - val_f1_score: 0.4065\n",
            "Epoch 29/100\n",
            "33/33 [==============================] - ETA: 0s - loss: 0.9088 - Categorical Accuracy: 0.5693 - precision: 0.6359 - recall: 0.4356 - auc: 0.8448 - f1_score: 0.5213\n",
            "Epoch 29: val_Categorical Accuracy did not improve from 0.50049\n",
            "33/33 [==============================] - 55s 2s/step - loss: 0.9088 - Categorical Accuracy: 0.5693 - precision: 0.6359 - recall: 0.4356 - auc: 0.8448 - f1_score: 0.5213 - val_loss: 1.1536 - val_Categorical Accuracy: 0.4027 - val_precision: 0.5032 - val_recall: 0.3079 - val_auc: 0.7419 - val_f1_score: 0.3823\n",
            "Epoch 30/100\n",
            "33/33 [==============================] - ETA: 0s - loss: 0.9002 - Categorical Accuracy: 0.5800 - precision: 0.6514 - recall: 0.4531 - auc: 0.8479 - f1_score: 0.5484\n",
            "Epoch 30: val_Categorical Accuracy did not improve from 0.50049\n",
            "33/33 [==============================] - 56s 2s/step - loss: 0.9002 - Categorical Accuracy: 0.5800 - precision: 0.6514 - recall: 0.4531 - auc: 0.8479 - f1_score: 0.5484 - val_loss: 1.1417 - val_Categorical Accuracy: 0.4282 - val_precision: 0.4735 - val_recall: 0.3324 - val_auc: 0.7567 - val_f1_score: 0.3899\n",
            "Epoch 31/100\n",
            "33/33 [==============================] - ETA: 0s - loss: 0.9173 - Categorical Accuracy: 0.5634 - precision: 0.6341 - recall: 0.4431 - auc: 0.8413 - f1_score: 0.5056\n",
            "Epoch 31: val_Categorical Accuracy did not improve from 0.50049\n",
            "33/33 [==============================] - 55s 2s/step - loss: 0.9173 - Categorical Accuracy: 0.5634 - precision: 0.6341 - recall: 0.4431 - auc: 0.8413 - f1_score: 0.5056 - val_loss: 1.3085 - val_Categorical Accuracy: 0.2991 - val_precision: 0.3449 - val_recall: 0.2326 - val_auc: 0.6780 - val_f1_score: 0.2776\n",
            "Epoch 32/100\n",
            "33/33 [==============================] - ETA: 0s - loss: 0.9265 - Categorical Accuracy: 0.5571 - precision: 0.6197 - recall: 0.4258 - auc: 0.8363 - f1_score: 0.4892\n",
            "Epoch 32: val_Categorical Accuracy did not improve from 0.50049\n",
            "33/33 [==============================] - 55s 2s/step - loss: 0.9265 - Categorical Accuracy: 0.5571 - precision: 0.6197 - recall: 0.4258 - auc: 0.8363 - f1_score: 0.4892 - val_loss: 1.1175 - val_Categorical Accuracy: 0.4272 - val_precision: 0.4498 - val_recall: 0.3196 - val_auc: 0.7571 - val_f1_score: 0.3732\n",
            "Epoch 33/100\n",
            "33/33 [==============================] - ETA: 0s - loss: 0.9089 - Categorical Accuracy: 0.5776 - precision: 0.6376 - recall: 0.4444 - auc: 0.8455 - f1_score: 0.5222\n",
            "Epoch 33: val_Categorical Accuracy did not improve from 0.50049\n",
            "33/33 [==============================] - 55s 2s/step - loss: 0.9089 - Categorical Accuracy: 0.5776 - precision: 0.6376 - recall: 0.4444 - auc: 0.8455 - f1_score: 0.5222 - val_loss: 1.1721 - val_Categorical Accuracy: 0.3998 - val_precision: 0.4733 - val_recall: 0.3030 - val_auc: 0.7368 - val_f1_score: 0.3687\n",
            "Epoch 34/100\n",
            "33/33 [==============================] - ETA: 0s - loss: 0.8919 - Categorical Accuracy: 0.5793 - precision: 0.6429 - recall: 0.4363 - auc: 0.8484 - f1_score: 0.5038\n",
            "Epoch 34: val_Categorical Accuracy did not improve from 0.50049\n",
            "33/33 [==============================] - 55s 2s/step - loss: 0.8919 - Categorical Accuracy: 0.5793 - precision: 0.6429 - recall: 0.4363 - auc: 0.8484 - f1_score: 0.5038 - val_loss: 1.1968 - val_Categorical Accuracy: 0.3754 - val_precision: 0.4941 - val_recall: 0.2845 - val_auc: 0.7147 - val_f1_score: 0.3607\n",
            "Epoch 35/100\n",
            "33/33 [==============================] - ETA: 0s - loss: 0.9069 - Categorical Accuracy: 0.5705 - precision: 0.6423 - recall: 0.4417 - auc: 0.8445 - f1_score: 0.5223\n",
            "Epoch 35: val_Categorical Accuracy did not improve from 0.50049\n",
            "33/33 [==============================] - 55s 2s/step - loss: 0.9069 - Categorical Accuracy: 0.5705 - precision: 0.6423 - recall: 0.4417 - auc: 0.8445 - f1_score: 0.5223 - val_loss: 1.2553 - val_Categorical Accuracy: 0.3421 - val_precision: 0.3577 - val_recall: 0.2630 - val_auc: 0.7033 - val_f1_score: 0.3032\n",
            "Epoch 36/100\n",
            "33/33 [==============================] - ETA: 0s - loss: 0.9073 - Categorical Accuracy: 0.5683 - precision: 0.6312 - recall: 0.4502 - auc: 0.8449 - f1_score: 0.5245\n",
            "Epoch 36: val_Categorical Accuracy did not improve from 0.50049\n",
            "33/33 [==============================] - 55s 2s/step - loss: 0.9073 - Categorical Accuracy: 0.5683 - precision: 0.6312 - recall: 0.4502 - auc: 0.8449 - f1_score: 0.5245 - val_loss: 1.2320 - val_Categorical Accuracy: 0.4301 - val_precision: 0.5421 - val_recall: 0.3402 - val_auc: 0.7406 - val_f1_score: 0.4173\n",
            "Epoch 37/100\n",
            "33/33 [==============================] - ETA: 0s - loss: 0.8976 - Categorical Accuracy: 0.5837 - precision: 0.6525 - recall: 0.4673 - auc: 0.8507 - f1_score: 0.5481\n",
            "Epoch 37: val_Categorical Accuracy did not improve from 0.50049\n",
            "33/33 [==============================] - 55s 2s/step - loss: 0.8976 - Categorical Accuracy: 0.5837 - precision: 0.6525 - recall: 0.4673 - auc: 0.8507 - f1_score: 0.5481 - val_loss: 1.2814 - val_Categorical Accuracy: 0.4643 - val_precision: 0.5393 - val_recall: 0.3685 - val_auc: 0.7445 - val_f1_score: 0.4376\n",
            "Epoch 38/100\n",
            "33/33 [==============================] - ETA: 0s - loss: 0.9011 - Categorical Accuracy: 0.5725 - precision: 0.6305 - recall: 0.4514 - auc: 0.8455 - f1_score: 0.5249\n",
            "Epoch 38: val_Categorical Accuracy did not improve from 0.50049\n",
            "33/33 [==============================] - 55s 2s/step - loss: 0.9011 - Categorical Accuracy: 0.5725 - precision: 0.6305 - recall: 0.4514 - auc: 0.8455 - f1_score: 0.5249 - val_loss: 1.1745 - val_Categorical Accuracy: 0.3978 - val_precision: 0.4522 - val_recall: 0.2776 - val_auc: 0.7312 - val_f1_score: 0.3435\n",
            "Epoch 39/100\n",
            "33/33 [==============================] - ETA: 0s - loss: 0.8965 - Categorical Accuracy: 0.5703 - precision: 0.6349 - recall: 0.4490 - auc: 0.8475 - f1_score: 0.5402\n",
            "Epoch 39: val_Categorical Accuracy did not improve from 0.50049\n",
            "33/33 [==============================] - 56s 2s/step - loss: 0.8965 - Categorical Accuracy: 0.5703 - precision: 0.6349 - recall: 0.4490 - auc: 0.8475 - f1_score: 0.5402 - val_loss: 1.1858 - val_Categorical Accuracy: 0.4008 - val_precision: 0.3994 - val_recall: 0.2835 - val_auc: 0.7329 - val_f1_score: 0.3314\n",
            "Epoch 40/100\n",
            "33/33 [==============================] - ETA: 0s - loss: 0.8950 - Categorical Accuracy: 0.5815 - precision: 0.6410 - recall: 0.4566 - auc: 0.8489 - f1_score: 0.5324\n",
            "Epoch 40: val_Categorical Accuracy did not improve from 0.50049\n",
            "33/33 [==============================] - 56s 2s/step - loss: 0.8950 - Categorical Accuracy: 0.5815 - precision: 0.6410 - recall: 0.4566 - auc: 0.8489 - f1_score: 0.5324 - val_loss: 1.2211 - val_Categorical Accuracy: 0.3832 - val_precision: 0.4480 - val_recall: 0.3030 - val_auc: 0.7289 - val_f1_score: 0.3609\n",
            "Epoch 41/100\n",
            "33/33 [==============================] - ETA: 0s - loss: 0.9047 - Categorical Accuracy: 0.5749 - precision: 0.6348 - recall: 0.4556 - auc: 0.8464 - f1_score: 0.5147\n",
            "Epoch 41: val_Categorical Accuracy did not improve from 0.50049\n",
            "33/33 [==============================] - 55s 2s/step - loss: 0.9047 - Categorical Accuracy: 0.5749 - precision: 0.6348 - recall: 0.4556 - auc: 0.8464 - f1_score: 0.5147 - val_loss: 1.2141 - val_Categorical Accuracy: 0.3675 - val_precision: 0.4011 - val_recall: 0.2835 - val_auc: 0.7279 - val_f1_score: 0.3318\n",
            "Epoch 41: early stopping\n"
          ]
        }
      ]
    },
    {
      "metadata": {
        "trusted": true,
        "colab": {
          "base_uri": "https://localhost:8080/",
          "height": 387
        },
        "id": "Xjp6eyFF5lM9",
        "outputId": "8296d819-5a81-48ed-ba4a-077b2ecc1bf8"
      },
      "cell_type": "code",
      "source": [
        "#%% PLOTTING RESULTS (Train vs Validation FOLDER 1)\n",
        "\n",
        "def Train_Val_Plot(acc,val_acc,loss,val_loss,recall,val_recall,precision,val_precision,f1,val_f1):\n",
        "    \n",
        "    fig, (ax1, ax2,ax3,ax4,ax5) = plt.subplots(1,5, figsize= (20,5))\n",
        "    fig.suptitle(\" MODEL'S METRICS VISUALIZATION \")\n",
        "\n",
        "    ax1.plot(range(1, len(acc) + 1), acc)\n",
        "    ax1.plot(range(1, len(val_acc) + 1), val_acc)\n",
        "    ax1.set_title('History of Accuracy')\n",
        "    ax1.set_xlabel('Epochs')\n",
        "    ax1.set_ylabel('Accuracy')\n",
        "    ax1.legend(['training', 'validation'])\n",
        "\n",
        "\n",
        "    ax2.plot(range(1, len(loss) + 1), loss)\n",
        "    ax2.plot(range(1, len(val_loss) + 1), val_loss)\n",
        "    ax2.set_title('History of Loss')\n",
        "    ax2.set_xlabel('Epochs')\n",
        "    ax2.set_ylabel('Loss')\n",
        "    ax2.legend(['training', 'validation'])\n",
        "    \n",
        "    ax3.plot(range(1, len(recall) + 1), recall)\n",
        "    ax3.plot(range(1, len(val_recall) + 1), val_recall)\n",
        "    ax3.set_title('History of recall')\n",
        "    ax3.set_xlabel('Epochs')\n",
        "    ax3.set_ylabel('recall')\n",
        "    ax3.legend(['training', 'validation'])\n",
        "    \n",
        "    ax4.plot(range(1, len(precision) + 1), precision)\n",
        "    ax4.plot(range(1, len(val_precision) + 1), val_precision)\n",
        "    ax4.set_title('History of Precision')\n",
        "    ax4.set_xlabel('Epochs')\n",
        "    ax4.set_ylabel('Precision')\n",
        "    ax4.legend(['training', 'validation'])\n",
        "    \n",
        "    ax5.plot(range(1, len(f1) + 1), f1)\n",
        "    ax5.plot(range(1, len(val_f1) + 1), val_f1)\n",
        "    ax5.set_title('History of F1-score')\n",
        "    ax5.set_xlabel('Epochs')\n",
        "    ax5.set_ylabel('F1 score')\n",
        "    ax5.legend(['training', 'validation'])\n",
        "\n",
        "\n",
        "    plt.show()\n",
        "    \n",
        "print(history.history.keys())\n",
        "Train_Val_Plot(history.history['Categorical Accuracy'],history.history['val_Categorical Accuracy'],\n",
        "               history.history['loss'],history.history['val_loss'],\n",
        "               history.history['recall'],history.history['val_recall'],\n",
        "               history.history['precision'],history.history['val_precision'],\n",
        "               history.history['f1_score'],history.history['val_f1_score']\n",
        "              )"
      ],
      "execution_count": 113,
      "outputs": [
        {
          "output_type": "stream",
          "name": "stdout",
          "text": [
            "dict_keys(['loss', 'Categorical Accuracy', 'precision', 'recall', 'auc', 'f1_score', 'val_loss', 'val_Categorical Accuracy', 'val_precision', 'val_recall', 'val_auc', 'val_f1_score'])\n"
          ]
        },
        {
          "output_type": "display_data",
          "data": {
            "text/plain": [
              "<Figure size 1440x360 with 5 Axes>"
            ],
            "image/png": "[encoded data removed]"
          },
          "metadata": {
            "needs_background": "light"
          }
        }
      ]
    },
    {
      "metadata": {
        "trusted": true,
        "colab": {
          "base_uri": "https://localhost:8080/"
        },
        "id": "ecuxsA2-5lM-",
        "outputId": "b106c882-be35-49b7-f703-35b2c89572c8"
      },
      "cell_type": "code",
      "source": [
        "scores = model.evaluate(test_dataset)"
      ],
      "execution_count": 119,
      "outputs": [
        {
          "output_type": "stream",
          "name": "stdout",
          "text": [
            "1279/1279 [==============================] - 33s 26ms/step - loss: 0.9635 - Categorical Accuracy: 0.5426 - precision: 0.5582 - recall: 0.4988 - auc: 0.8323 - f1_score: 0.4988\n"
          ]
        }
      ]
    },
    {
      "metadata": {
        "trusted": true,
        "colab": {
          "base_uri": "https://localhost:8080/"
        },
        "id": "bgE7pqFv5lM-",
        "outputId": "d2e019a9-f15a-4146-b1bc-6d2385397871"
      },
      "cell_type": "code",
      "source": [
        "print(\"Accuracy = \", scores[1])\n",
        "print(\"Precision = \", scores[2])\n",
        "print(\"Recall = \", scores[3])\n",
        "print(\"F1_score = \", scores[4])"
      ],
      "execution_count": 120,
      "outputs": [
        {
          "output_type": "stream",
          "name": "stdout",
          "text": [
            "Accuracy =  0.5426114201545715\n",
            "Precision =  0.5581802129745483\n",
            "Recall =  0.4988272190093994\n",
            "F1_score =  0.8323396444320679\n"
          ]
        }
      ]
    },
    {
      "cell_type": "code",
      "source": [
        "true_classes = test_dataset.classes\n",
        "class_indices = test_dataset.class_indices\n",
        "class_indices = dict((v,k) for k,v in class_indices.items())\n",
        "\n",
        "resnet50_preds = model.predict(test_dataset)\n",
        "resnet50_pred_classes = np.argmax(resnet50_preds, axis=1)"
      ],
      "metadata": {
        "colab": {
          "base_uri": "https://localhost:8080/"
        },
        "id": "4prpCiM58LIM",
        "outputId": "a602a837-1457-49da-cd4d-ec8dd13e12b6"
      },
      "execution_count": 121,
      "outputs": [
        {
          "output_type": "stream",
          "name": "stdout",
          "text": [
            "1279/1279 [==============================] - 36s 28ms/step\n"
          ]
        }
      ]
    },
    {
      "cell_type": "code",
      "source": [
        "import seaborn as sns\n",
        "from sklearn.metrics import confusion_matrix\n",
        "\n",
        "# Get the names of the ten classes\n",
        "class_names = test_dataset.class_indices.keys()\n",
        "\n",
        "def plot_heatmap(y_true, y_pred):\n",
        "    cm = confusion_matrix(y_true, y_pred)\n",
        "    sns.heatmap(\n",
        "        cm, \n",
        "        annot=True, \n",
        "        square=True, \n",
        "        fmt='d', \n",
        "        cmap=plt.cm.Blues,\n",
        "        cbar=False,\n",
        "    )\n",
        "\n",
        "plt.figure()\n",
        "plot_heatmap(true_classes, resnet50_pred_classes)    \n",
        "\n",
        "plt.show()"
      ],
      "metadata": {
        "colab": {
          "base_uri": "https://localhost:8080/",
          "height": 265
        },
        "id": "m4WzrxBi8otU",
        "outputId": "933d47d9-3d03-40de-8d07-f3700a59453d"
      },
      "execution_count": 122,
      "outputs": [
        {
          "output_type": "display_data",
          "data": {
            "text/plain": [
              "<Figure size 432x288 with 1 Axes>"
            ],
            "image/png": "[encoded data removed]"
          },
          "metadata": {
            "needs_background": "light"
          }
        }
      ]
    },
    {
      "cell_type": "code",
      "source": [
        "! pip install -q kaggle\n",
        "from google.colab import files\n",
        "files.upload()\n",
        "! mkdir ~/.kaggle\n",
        "! cp kaggle.json ~/.kaggle/\n",
        "! chmod 600 ~/.kaggle/kaggle.json\n",
        "#!kaggle datasets download -d tourist55/alzheimers-dataset-4-class-of-images\n",
        "!kaggle datasets download -d sachinkumar413/alzheimer-mri-dataset"
      ],
      "metadata": {
        "colab": {
          "base_uri": "https://localhost:8080/",
          "height": 107
        },
        "id": "qKAEiHPr_LSw",
        "outputId": "4e6a3d48-5c60-478f-9858-92d24e74b715"
      },
      "execution_count": 123,
      "outputs": [
        {
          "output_type": "display_data",
          "data": {
            "text/plain": [
              "<IPython.core.display.HTML object>"
            ],
            "text/html": [
              "\n",
              "     <input type=\"file\" id=\"files-8af5e036-1a6a-4bcb-91cb-96b3ef6d75c4\" name=\"files[]\" multiple disabled\n",
              "        style=\"border:none\" />\n",
              "     <output id=\"result-8af5e036-1a6a-4bcb-91cb-96b3ef6d75c4\">\n",
              "      Upload widget is only available when the cell has been executed in the\n",
              "      current browser session. Please rerun this cell to enable.\n",
              "      </output>\n",
              "      <script>// Copyright 2017 Google LLC\n",
              "//\n",
              "// Licensed under the Apache License, Version 2.0 (the \"License\");\n",
              "// you may not use this file except in compliance with the License.\n",
              "// You may obtain a copy of the License at\n",
              "//\n",
              "//      http://www.apache.org/licenses/LICENSE-2.0\n",
              "//\n",
              "// Unless required by applicable law or agreed to in writing, software\n",
              "// distributed under the License is distributed on an \"AS IS\" BASIS,\n",
              "// WITHOUT WARRANTIES OR CONDITIONS OF ANY KIND, either express or implied.\n",
              "// See the License for the specific language governing permissions and\n",
              "// limitations under the License.\n",
              "\n",
              "/**\n",
              " * @fileoverview Helpers for google.colab Python module.\n",
              " */\n",
              "(function(scope) {\n",
              "function span(text, styleAttributes = {}) {\n",
              "  const element = document.createElement('span');\n",
              "  element.textContent = text;\n",
              "  for (const key of Object.keys(styleAttributes)) {\n",
              "    element.style[key] = styleAttributes[key];\n",
              "  }\n",
              "  return element;\n",
              "}\n",
              "\n",
              "// Max number of bytes which will be uploaded at a time.\n",
              "const MAX_PAYLOAD_SIZE = 100 * 1024;\n",
              "\n",
              "function _uploadFiles(inputId, outputId) {\n",
              "  const steps = uploadFilesStep(inputId, outputId);\n",
              "  const outputElement = document.getElementById(outputId);\n",
              "  // Cache steps on the outputElement to make it available for the next call\n",
              "  // to uploadFilesContinue from Python.\n",
              "  outputElement.steps = steps;\n",
              "\n",
              "  return _uploadFilesContinue(outputId);\n",
              "}\n",
              "\n",
              "// This is roughly an async generator (not supported in the browser yet),\n",
              "// where there are multiple asynchronous steps and the Python side is going\n",
              "// to poll for completion of each step.\n",
              "// This uses a Promise to block the python side on completion of each step,\n",
              "// then passes the result of the previous step as the input to the next step.\n",
              "function _uploadFilesContinue(outputId) {\n",
              "  const outputElement = document.getElementById(outputId);\n",
              "  const steps = outputElement.steps;\n",
              "\n",
              "  const next = steps.next(outputElement.lastPromiseValue);\n",
              "  return Promise.resolve(next.value.promise).then((value) => {\n",
              "    // Cache the last promise value to make it available to the next\n",
              "    // step of the generator.\n",
              "    outputElement.lastPromiseValue = value;\n",
              "    return next.value.response;\n",
              "  });\n",
              "}\n",
              "\n",
              "/**\n",
              " * Generator function which is called between each async step of the upload\n",
              " * process.\n",
              " * @param {string} inputId Element ID of the input file picker element.\n",
              " * @param {string} outputId Element ID of the output display.\n",
              " * @return {!Iterable<!Object>} Iterable of next steps.\n",
              " */\n",
              "function* uploadFilesStep(inputId, outputId) {\n",
              "  const inputElement = document.getElementById(inputId);\n",
              "  inputElement.disabled = false;\n",
              "\n",
              "  const outputElement = document.getElementById(outputId);\n",
              "  outputElement.innerHTML = '';\n",
              "\n",
              "  const pickedPromise = new Promise((resolve) => {\n",
              "    inputElement.addEventListener('change', (e) => {\n",
              "      resolve(e.target.files);\n",
              "    });\n",
              "  });\n",
              "\n",
              "  const cancel = document.createElement('button');\n",
              "  inputElement.parentElement.appendChild(cancel);\n",
              "  cancel.textContent = 'Cancel upload';\n",
              "  const cancelPromise = new Promise((resolve) => {\n",
              "    cancel.onclick = () => {\n",
              "      resolve(null);\n",
              "    };\n",
              "  });\n",
              "\n",
              "  // Wait for the user to pick the files.\n",
              "  const files = yield {\n",
              "    promise: Promise.race([pickedPromise, cancelPromise]),\n",
              "    response: {\n",
              "      action: 'starting',\n",
              "    }\n",
              "  };\n",
              "\n",
              "  cancel.remove();\n",
              "\n",
              "  // Disable the input element since further picks are not allowed.\n",
              "  inputElement.disabled = true;\n",
              "\n",
              "  if (!files) {\n",
              "    return {\n",
              "      response: {\n",
              "        action: 'complete',\n",
              "      }\n",
              "    };\n",
              "  }\n",
              "\n",
              "  for (const file of files) {\n",
              "    const li = document.createElement('li');\n",
              "    li.append(span(file.name, {fontWeight: 'bold'}));\n",
              "    li.append(span(\n",
              "        `(${file.type || 'n/a'}) - ${file.size} bytes, ` +\n",
              "        `last modified: ${\n",
              "            file.lastModifiedDate ? file.lastModifiedDate.toLocaleDateString() :\n",
              "                                    'n/a'} - `));\n",
              "    const percent = span('0% done');\n",
              "    li.appendChild(percent);\n",
              "\n",
              "    outputElement.appendChild(li);\n",
              "\n",
              "    const fileDataPromise = new Promise((resolve) => {\n",
              "      const reader = new FileReader();\n",
              "      reader.onload = (e) => {\n",
              "        resolve(e.target.result);\n",
              "      };\n",
              "      reader.readAsArrayBuffer(file);\n",
              "    });\n",
              "    // Wait for the data to be ready.\n",
              "    let fileData = yield {\n",
              "      promise: fileDataPromise,\n",
              "      response: {\n",
              "        action: 'continue',\n",
              "      }\n",
              "    };\n",
              "\n",
              "    // Use a chunked sending to avoid message size limits. See b/62115660.\n",
              "    let position = 0;\n",
              "    do {\n",
              "      const length = Math.min(fileData.byteLength - position, MAX_PAYLOAD_SIZE);\n",
              "      const chunk = new Uint8Array(fileData, position, length);\n",
              "      position += length;\n",
              "\n",
              "      const base64 = btoa(String.fromCharCode.apply(null, chunk));\n",
              "      yield {\n",
              "        response: {\n",
              "          action: 'append',\n",
              "          file: file.name,\n",
              "          data: base64,\n",
              "        },\n",
              "      };\n",
              "\n",
              "      let percentDone = fileData.byteLength === 0 ?\n",
              "          100 :\n",
              "          Math.round((position / fileData.byteLength) * 100);\n",
              "      percent.textContent = `${percentDone}% done`;\n",
              "\n",
              "    } while (position < fileData.byteLength);\n",
              "  }\n",
              "\n",
              "  // All done.\n",
              "  yield {\n",
              "    response: {\n",
              "      action: 'complete',\n",
              "    }\n",
              "  };\n",
              "}\n",
              "\n",
              "scope.google = scope.google || {};\n",
              "scope.google.colab = scope.google.colab || {};\n",
              "scope.google.colab._files = {\n",
              "  _uploadFiles,\n",
              "  _uploadFilesContinue,\n",
              "};\n",
              "})(self);\n",
              "</script> "
            ]
          },
          "metadata": {}
        },
        {
          "output_type": "stream",
          "name": "stdout",
          "text": [
            "Saving kaggle.json to kaggle (4).json\n",
            "mkdir: cannot create directory ‘/root/.kaggle’: File exists\n",
            "alzheimer-mri-dataset.zip: Skipping, found more recently modified local copy (use --force to force download)\n"
          ]
        }
      ]
    },
    {
      "cell_type": "code",
      "source": [
        "import zipfile\n",
        "local_zip = '/content/alzheimer-mri-dataset.zip'\n",
        "data = zipfile.ZipFile(local_zip, 'r')\n",
        "data.extractall('/content/Alzheimer_s Dataset_2')\n",
        "data.close()"
      ],
      "metadata": {
        "id": "7wbp7Lhx82as"
      },
      "execution_count": 124,
      "outputs": []
    },
    {
      "cell_type": "code",
      "source": [
        "from google.colab import drive\n",
        "drive.mount('/content/drive')"
      ],
      "metadata": {
        "colab": {
          "base_uri": "https://localhost:8080/"
        },
        "id": "rClYKivgEDeQ",
        "outputId": "f918deac-408c-4358-9313-0e46fb887361"
      },
      "execution_count": 125,
      "outputs": [
        {
          "output_type": "stream",
          "name": "stdout",
          "text": [
            "Drive already mounted at /content/drive; to attempt to forcibly remount, call drive.mount(\"/content/drive\", force_remount=True).\n"
          ]
        }
      ]
    },
    {
      "cell_type": "code",
      "source": [
        "test_datagen2  = ImageDataGenerator(rescale = 1./255)\n",
        "# Test Data \n",
        "\n",
        "test_dataset2  = test_datagen.flow_from_directory(directory = '/content/Alzheimer_s Dataset_2/Dataset',\n",
        "                                                 target_size = (224,224),\n",
        "                                                 class_mode = 'categorical',\n",
        "                                                 batch_size = 1)"
      ],
      "metadata": {
        "colab": {
          "base_uri": "https://localhost:8080/"
        },
        "id": "s_mJT1or82Rn",
        "outputId": "439295f4-e929-45d1-a085-624556c906b0"
      },
      "execution_count": 126,
      "outputs": [
        {
          "output_type": "stream",
          "name": "stdout",
          "text": [
            "Found 6400 images belonging to 4 classes.\n"
          ]
        }
      ]
    },
    {
      "cell_type": "code",
      "source": [
        "# Model Compile \n",
        "\n",
        "OPT    = tensorflow.keras.optimizers.Adam(lr=0.001)\n",
        "METRICS = [\n",
        "      tensorflow.keras.metrics.CategoricalAccuracy(name='Categorical Accuracy'),\n",
        "      tensorflow.keras.metrics.Precision(name='precision'),\n",
        "      tensorflow.keras.metrics.Recall(name='recall'),  \n",
        "        f1_score,\n",
        "          ]\n",
        "model.compile(loss='categorical_crossentropy',\n",
        "              metrics=METRICS,\n",
        "              optimizer=OPT)"
      ],
      "metadata": {
        "colab": {
          "base_uri": "https://localhost:8080/"
        },
        "id": "j8HiV0Gi82Ie",
        "outputId": "b6c0a726-5788-474a-c949-cbfdee02a6cc"
      },
      "execution_count": 127,
      "outputs": [
        {
          "output_type": "stream",
          "name": "stderr",
          "text": [
            "/usr/local/lib/python3.8/dist-packages/keras/optimizers/optimizer_v2/adam.py:110: UserWarning: The `lr` argument is deprecated, use `learning_rate` instead.\n",
            "  super(Adam, self).__init__(name, **kwargs)\n"
          ]
        }
      ]
    },
    {
      "cell_type": "code",
      "source": [
        "# Evaluating Loss and AUC\n",
        "\n",
        "model.evaluate(test_dataset2)"
      ],
      "metadata": {
        "colab": {
          "base_uri": "https://localhost:8080/"
        },
        "id": "I73h2Peb81-H",
        "outputId": "93d79ff3-5998-4139-b0f4-1b1ab3a63b9f"
      },
      "execution_count": 128,
      "outputs": [
        {
          "output_type": "stream",
          "name": "stdout",
          "text": [
            "6400/6400 [==============================] - 187s 29ms/step - loss: 0.8877 - Categorical Accuracy: 0.5672 - precision: 0.6059 - recall: 0.4870 - f1_score: 0.4870\n"
          ]
        },
        {
          "output_type": "execute_result",
          "data": {
            "text/plain": [
              "[0.8876709938049316,\n",
              " 0.567187488079071,\n",
              " 0.6059486865997314,\n",
              " 0.4870312511920929,\n",
              " 0.4870312213897705]"
            ]
          },
          "metadata": {},
          "execution_count": 128
        }
      ]
    },
    {
      "cell_type": "code",
      "source": [],
      "metadata": {
        "id": "v-ZAT4WGgSCe"
      },
      "execution_count": null,
      "outputs": []
    },
    {
      "cell_type": "code",
      "source": [],
      "metadata": {
        "id": "d1WUHvWXgR8z"
      },
      "execution_count": null,
      "outputs": []
    },
    {
      "cell_type": "code",
      "source": [],
      "metadata": {
        "id": "MPfxDiJSgR5R"
      },
      "execution_count": 79,
      "outputs": []
    },
    {
      "cell_type": "code",
      "source": [],
      "metadata": {
        "id": "QT8KIY4OgR13"
      },
      "execution_count": 79,
      "outputs": []
    },
    {
      "cell_type": "code",
      "source": [],
      "metadata": {
        "id": "UPItWtLngRyR"
      },
      "execution_count": 79,
      "outputs": []
    },
    {
      "cell_type": "code",
      "source": [],
      "metadata": {
        "id": "_Va5TwangRlR"
      },
      "execution_count": 79,
      "outputs": []
    },
    {
      "cell_type": "code",
      "source": [
        "def predict_prob(number):\n",
        "  return [number[0],1-number[0]]"
      ],
      "metadata": {
        "id": "ej_KLznqEi9M"
      },
      "execution_count": 80,
      "outputs": []
    },
    {
      "cell_type": "code",
      "source": [
        "from tensorflow.keras.preprocessing.image import load_img, img_to_array\n",
        "dic = test_dataset.class_indices\n",
        "idc = {k:v for v, k in dic.items()}\n",
        "\n",
        "img = load_img('/content/Alzheimer_s Dataset/Alzheimer_s Dataset/test/NonDemented/26 (95).jpg', target_size = (224,224,3))\n",
        "img = img_to_array(img)\n",
        "img = img/255\n",
        "imshow(img)\n",
        "plt.axis('off')\n",
        "img = np.expand_dims(img,axis=0)\n",
        "\n",
        "classes = np.argmax(model.predict(img),axis=1)\n",
        "\n",
        "probability = round(np.max(model.predict(img)*100),2)\n",
        "\n",
        "\n",
        "print(probability, '% chances are there that the image is', classes)"
      ],
      "metadata": {
        "id": "6f0b80ZeE6rM",
        "colab": {
          "base_uri": "https://localhost:8080/",
          "height": 329
        },
        "outputId": "c6ab8db0-877d-489d-8fd6-2c8d80fcf0d0"
      },
      "execution_count": 81,
      "outputs": [
        {
          "output_type": "stream",
          "name": "stdout",
          "text": [
            "1/1 [==============================] - 2s 2s/step\n",
            "1/1 [==============================] - 0s 30ms/step\n",
            "64.98 % chances are there that the image is [2]\n"
          ]
        },
        {
          "output_type": "display_data",
          "data": {
            "text/plain": [
              "<Figure size 432x288 with 1 Axes>"
            ],
            "image/png": "[encoded data removed]"
          },
          "metadata": {
            "needs_background": "light"
          }
        }
      ]
    },
    {
      "cell_type": "code",
      "source": [],
      "metadata": {
        "id": "q2zSsUa7FqJC"
      },
      "execution_count": 81,
      "outputs": []
    }
  ],
  "metadata": {
    "kernelspec": {
      "name": "python3",
      "display_name": "Python 3",
      "language": "python"
    },
    "language_info": {
      "name": "python",
      "version": "3.7.6",
      "mimetype": "text/x-python",
      "codemirror_mode": {
        "name": "ipython",
        "version": 3
      },
      "pygments_lexer": "ipython3",
      "nbconvert_exporter": "python",
      "file_extension": ".py"
    },
    "colab": {
      "provenance": []
    },
    "gpuClass": "standard",
    "accelerator": "GPU"
  },
  "nbformat": 4,
  "nbformat_minor": 0
}