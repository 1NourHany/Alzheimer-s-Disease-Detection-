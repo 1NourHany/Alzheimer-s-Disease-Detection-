{
  "cells": [
    {
      "cell_type": "markdown",
      "metadata": {
        "id": "view-in-github",
        "colab_type": "text"
      },
      "source": [
        "<a href=\"https://colab.research.google.com/github/1NourHany/Alzheimer-s-Disease-Detection-/blob/main/final_vgg_(1).ipynb\" target=\"_parent\"><img src=\"https://colab.research.google.com/assets/colab-badge.svg\" alt=\"Open In Colab\"/></a>"
      ]
    },
    {
      "cell_type": "markdown",
      "metadata": {
        "id": "gmrTtL06JaUe"
      },
      "source": [
        "# Task: Improve Accuracy\n",
        "\n",
        "The task is to improve the accuracy from 90% to 98-99%. Densenet161 gives 90% accuracy. The task is to optimize for accuracy but I will also show the F Beta score of the model as well. This notebook will feature a vgg16 model, trained in fastAI, and using progressive resizing and cutout to attain better results. Updated for september, I added some additional visuals to help understand the training and added a new section at the end for practical applications in healthcare.\n",
        "\n",
        "The statement below was from the original 'completed' version of this notebook about 5 months ago. I am thrilled to say that this is no longer the case as an academic team improved upon my work to achieve truly phonomenal results\n",
        "`\n",
        "The model only manages to achieve 95% accuracy, so I would consider this model a large step in the right direction, but not quite reaching the destination. Feel free to fork this notebook and play around, maybe you will find the missing link to reach the 98%+ mark. Check my final thoughts section for ideas for further improvement\n",
        "`\n",
        "The current best performing model is now getting 99% on a custom test set, I highly recommend checking it out in the link to the paper in the special thanks section.\n",
        "\n",
        "Special Thanks to:\n",
        "* Sarvesh Dubey for both the dataset and the Task https://www.kaggle.com/tourist55\n",
        "* Zachary Burns, Derrick Cosmas, and Bryce Smith for taking the project I started here and improving upon it (I think its my first time being cited in an acedemic paper) http://noiselab.ucsd.edu/ECE228/projects/Report/52Report.pdf"
      ]
    },
    {
      "cell_type": "markdown",
      "metadata": {
        "id": "_vCkCKbPJaUi"
      },
      "source": [
        "<a id=\"TOC\"></a>\n",
        "## Table of Contents\n",
        "\n",
        "* [Part 2: Pint sized model](#part-two) \n",
        "* [part 3: Full sized fun](#part-three) \n",
        "    * [Potholes in high dimensional space](#pihds) \n",
        "* [Part 4: Test sets in FastAI](#part-four) \n",
        "    * [What does the model see](#wdtms) \n",
        "* [Conclusions](#Conclusions) \n",
        "\n",
        "\n",
        "# Part one: feeding in the data"
      ]
    },
    {
      "cell_type": "code",
      "source": [],
      "metadata": {
        "id": "6K8Gyw3KQ6RU"
      },
      "execution_count": null,
      "outputs": []
    },
    {
      "cell_type": "code",
      "source": [
        "!pip install torch==1.4.0"
      ],
      "metadata": {
        "execution": {
          "iopub.status.busy": "2022-12-20T22:52:02.397549Z",
          "iopub.execute_input": "2022-12-20T22:52:02.397933Z",
          "iopub.status.idle": "2022-12-20T22:52:11.803883Z",
          "shell.execute_reply.started": "2022-12-20T22:52:02.397896Z",
          "shell.execute_reply": "2022-12-20T22:52:11.802664Z"
        },
        "trusted": true,
        "id": "V3Ju7LpIyeqx"
      },
      "execution_count": null,
      "outputs": []
    },
    {
      "cell_type": "code",
      "source": [
        "!pip install torchvision==0.5.0"
      ],
      "metadata": {
        "execution": {
          "iopub.status.busy": "2022-12-20T22:52:36.320792Z",
          "iopub.execute_input": "2022-12-20T22:52:36.321186Z",
          "iopub.status.idle": "2022-12-20T22:52:46.647843Z",
          "shell.execute_reply.started": "2022-12-20T22:52:36.321148Z",
          "shell.execute_reply": "2022-12-20T22:52:46.646629Z"
        },
        "trusted": true,
        "id": "W-0e5PLyyeqy"
      },
      "execution_count": null,
      "outputs": []
    },
    {
      "cell_type": "code",
      "source": [
        "!pip install http://download.pytorch.org/whl/cpu/torch-1.0.0-cp36-cp36m-linux_x86_64.whl\n",
        "!pip install fastai==1.0.60"
      ],
      "metadata": {
        "execution": {
          "iopub.status.busy": "2022-12-20T22:53:38.185830Z",
          "iopub.execute_input": "2022-12-20T22:53:38.186220Z",
          "iopub.status.idle": "2022-12-20T22:53:49.736593Z",
          "shell.execute_reply.started": "2022-12-20T22:53:38.186183Z",
          "shell.execute_reply": "2022-12-20T22:53:49.735312Z"
        },
        "trusted": true,
        "id": "x6HPswwFyeqz"
      },
      "execution_count": null,
      "outputs": []
    },
    {
      "cell_type": "code",
      "source": [
        "! pip install -q kaggle\n",
        "from google.colab import files\n",
        "files.upload()\n",
        "! mkdir ~/.kaggle\n",
        "! cp kaggle.json ~/.kaggle/\n",
        "! chmod 600 ~/.kaggle/kaggle.json"
      ],
      "metadata": {
        "id": "C2TeXmJz94nR"
      },
      "execution_count": null,
      "outputs": []
    },
    {
      "cell_type": "code",
      "source": [
        "!kaggle datasets download -d tourist55/alzheimers-dataset-4-class-of-images"
      ],
      "metadata": {
        "id": "Ez_sG3yJ-DoB"
      },
      "execution_count": null,
      "outputs": []
    },
    {
      "cell_type": "code",
      "source": [
        "import zipfile\n",
        "local_zip = '/content/alzheimers-dataset-4-class-of-images.zip'\n",
        "data = zipfile.ZipFile(local_zip, 'r')\n",
        "data.extractall('/content/Alzheimer Date')\n",
        "data.close()"
      ],
      "metadata": {
        "id": "MOEvNZdZ-GBD"
      },
      "execution_count": null,
      "outputs": []
    },
    {
      "cell_type": "code",
      "execution_count": null,
      "metadata": {
        "_cell_guid": "79c7e3d0-c299-4dcb-8224-4455121ee9b0",
        "_uuid": "d629ff2d2480ee46fbb7e2d37f6b5fab8052498a",
        "id": "dHlCsTstJaUj"
      },
      "outputs": [],
      "source": [
        "import numpy as np\n",
        "import pandas as pd\n",
        "import os\n",
        "%reload_ext autoreload\n",
        "%autoreload 2\n",
        "%matplotlib inline\n",
        "from fastai import *\n",
        "from fastai.vision import *"
      ]
    },
    {
      "cell_type": "code",
      "source": [
        "PATH = Path('/content/Alzheimer Date/Alzheimer_s Dataset/')\n"
      ],
      "metadata": {
        "execution": {
          "iopub.status.busy": "2022-12-20T22:54:04.253693Z",
          "iopub.execute_input": "2022-12-20T22:54:04.254635Z",
          "iopub.status.idle": "2022-12-20T22:54:04.291728Z",
          "shell.execute_reply.started": "2022-12-20T22:54:04.254582Z",
          "shell.execute_reply": "2022-12-20T22:54:04.290733Z"
        },
        "trusted": true,
        "id": "sS3wFubCyeq2"
      },
      "execution_count": null,
      "outputs": []
    },
    {
      "cell_type": "code",
      "execution_count": null,
      "metadata": {
        "id": "j2S2_sMeJaUn"
      },
      "outputs": [],
      "source": [
        "transform = get_transforms(max_rotate=7.5,\n",
        "                           max_zoom=1.15,\n",
        "                           max_lighting=0.15,\n",
        "                           max_warp=0.15,\n",
        "                           p_affine=0.8, p_lighting = 0.8, \n",
        "                           xtra_tfms= [\n",
        "                               pad(mode='zeros'),\n",
        "                               symmetric_warp(magnitude=(-0.1,0.1)),\n",
        "                               cutout(n_holes=(1,3), length=(5,5))\n",
        "                           ])"
      ]
    },
    {
      "cell_type": "code",
      "execution_count": null,
      "metadata": {
        "id": "Ghxd7TCzJaUo"
      },
      "outputs": [],
      "source": [
        "data = ImageDataBunch.from_folder(PATH, train=\"train/\",\n",
        "                                  test=\"test/\",\n",
        "                                  valid_pct=.4,\n",
        "                                  ds_tfms=transform,\n",
        "                                  size=112,bs=64, \n",
        "                                  ).normalize(imagenet_stats)"
      ]
    },
    {
      "cell_type": "code",
      "execution_count": null,
      "metadata": {
        "id": "jM0sL_uSJaUp"
      },
      "outputs": [],
      "source": [
        "data.show_batch(rows=3, figsize=(10,10))"
      ]
    },
    {
      "cell_type": "code",
      "execution_count": null,
      "metadata": {
        "id": "wFzuM9pOJaUq"
      },
      "outputs": [],
      "source": [
        "Category.__eq__ = lambda self, that: self.data == that.data\n",
        "Category.__hash__ = lambda self: hash(self.obj)\n",
        "Counter(data.train_ds.y)"
      ]
    },
    {
      "cell_type": "code",
      "execution_count": null,
      "metadata": {
        "id": "DBBJCL6YJaUq"
      },
      "outputs": [],
      "source": [
        "import torch.nn as nn\n",
        "\n",
        "learn = cnn_learner(data, models.vgg16_bn, metrics=[FBeta(average='weighted'),accuracy], wd=1e-1, callback_fns=ShowGraph)\n",
        "\n",
        "#learn = cnn_learner(data, models.vgg16_bn,loss_func=catagoricalcrossentropy , metrics=error_rate, wd=1e-1)#,pretrained=False)\n",
        "learn.fit_one_cycle(4)"
      ]
    },
    {
      "cell_type": "code",
      "execution_count": null,
      "metadata": {
        "id": "thfnqK0hJaUq"
      },
      "outputs": [],
      "source": [
        "Model_Path = Path('/content/drive/MyDrive/vgg')\n",
        "learn.model_dir = Model_Path\n",
        "learn.save('checkpoint-1')"
      ]
    },
    {
      "cell_type": "code",
      "execution_count": null,
      "metadata": {
        "id": "syxbUC6cJaUr"
      },
      "outputs": [],
      "source": [
        "learn.model\n",
        "learn.recorder.plot_losses()"
      ]
    },
    {
      "cell_type": "code",
      "execution_count": null,
      "metadata": {
        "id": "ASGKKCgPJaUr"
      },
      "outputs": [],
      "source": [
        "learn.load('checkpoint-1');"
      ]
    },
    {
      "cell_type": "code",
      "execution_count": null,
      "metadata": {
        "id": "wCz6XYkDJaUr"
      },
      "outputs": [],
      "source": [
        "learn.unfreeze()\n",
        "#learn.fit_one_cycle(8, max_lr=slice(1e-6,3e-4))\n",
        "learn.fit_one_cycle(4, max_lr=slice(1e-6,3e-4))"
      ]
    },
    {
      "cell_type": "code",
      "execution_count": null,
      "metadata": {
        "id": "T_yhMyryJaUr"
      },
      "outputs": [],
      "source": [
        "learn.model\n",
        "learn.recorder.plot_losses()"
      ]
    },
    {
      "cell_type": "code",
      "execution_count": null,
      "metadata": {
        "id": "CHiX9YepJaUs"
      },
      "outputs": [],
      "source": [
        "learn.save('checkpoint-2')"
      ]
    },
    {
      "cell_type": "markdown",
      "metadata": {
        "id": "HSIFm-hDJaUk"
      },
      "source": [
        "This project uses FastAI version 1.0.60, the new version have several syntax differences and new features."
      ]
    },
    {
      "cell_type": "markdown",
      "metadata": {
        "id": "QfD3i0cvJaUn"
      },
      "source": [
        "### Cutout\n",
        "Cutout is a method for removing small chunks of an image at random (see the batch images below to get an idea). This was one of the transforms that I experimented the most with and it helped close the gap a little between validation accuracy and test accuracy. "
      ]
    },
    {
      "cell_type": "markdown",
      "metadata": {
        "id": "rePpSPLVJaUq"
      },
      "source": [
        "I explored many different models and found VGG16 to have more consistent performance. Other similar performing models were resnet50, resnet101, resnet152, densenet161 and vgg19_bn. I experimented with squeezenet but the performance was awful. I had also tried googlenet and inception v3, but these methods I was unable to make compatible with progressive resizing. "
      ]
    },
    {
      "cell_type": "markdown",
      "metadata": {
        "id": "Wj2OD0d1JaUs"
      },
      "source": [
        "I'm relatively new to DeepLearning with FastAI, from my limited experience with Progressive Resizing, the smaller training phases are most useful for the final product when they are still a bit underfit to the dataset. Further experimentation with this could, and possibly should be done to confirm.\n",
        "<a id=\"part-three\"></a>\n",
        "## Part 3: Full sized fun!\n",
        "\n",
        "Now that there is a reasonably good model for 112x112 images, now I will train the model on full sized images. Since I am now creating a final model, I will include the F Beta score to get a more complete view of the models performance. I also will modify the cutout section of the transforms to upscale the cutout sizes. \n",
        "\n",
        "[Back to table of contents](#TOC) "
      ]
    },
    {
      "cell_type": "code",
      "source": [
        "learn.destroy()\n"
      ],
      "metadata": {
        "id": "nXMqDFayS4Wh"
      },
      "execution_count": null,
      "outputs": []
    },
    {
      "cell_type": "code",
      "execution_count": null,
      "metadata": {
        "id": "Svfg5jZkJaUs"
      },
      "outputs": [],
      "source": [
        "transform = get_transforms(max_rotate=7.5,\n",
        "                           max_zoom=1.15,\n",
        "                           max_lighting=0.15,\n",
        "                           max_warp=0.15,\n",
        "                           p_affine=0.8,\n",
        "                           p_lighting = 0.8,\n",
        "                           xtra_tfms= [\n",
        "                               pad(mode='zeros'),\n",
        "                               symmetric_warp(magnitude=(-0.1,0.1)),\n",
        "                               cutout(n_holes=(1,6),length=(5,20))])"
      ]
    },
    {
      "cell_type": "code",
      "execution_count": null,
      "metadata": {
        "id": "WKustRjOJaUs"
      },
      "outputs": [],
      "source": [
        "data = ImageDataBunch.from_folder(PATH, train=\"train/\",\n",
        "                                 valid=\"train/\",\n",
        "                                  test=\"test/\",\n",
        "                                  valid_pct=.2,\n",
        "                                  ds_tfms=transform,\n",
        "                                  size=224,bs=32, \n",
        "                                  ).normalize(imagenet_stats)"
      ]
    },
    {
      "cell_type": "code",
      "execution_count": null,
      "metadata": {
        "id": "SpIDwaNkJaUt"
      },
      "outputs": [],
      "source": [
        "learn = cnn_learner(data, models.vgg16_bn, pretrained=False, metrics=[error_rate, FBeta(average='weighted'),accuracy], wd=1e-1, callback_fns=ShowGraph)\n",
        "Model_Path = Path('/content/drive/MyDrive/vgg')\n",
        "learn.model_dir = Model_Path\n",
        "learn.load('checkpoint-2');\n"
      ]
    },
    {
      "cell_type": "code",
      "execution_count": null,
      "metadata": {
        "id": "De91Tx_hJaUt"
      },
      "outputs": [],
      "source": [
        "learn.lr_find()\n",
        "learn.recorder.plot()"
      ]
    },
    {
      "cell_type": "markdown",
      "metadata": {
        "id": "c7PetQweJaUt"
      },
      "source": [
        "<a id=\"pihds\"></a>\n",
        "# Potholes in high dimensional space:\n",
        "\n",
        "If you look at the training epochs below you will notice that the model hit a series of local minima on the way towards the optimal weights. I experimented with many combinations of weight decays, training cycles, learning rates, fine tuning, and the combination below worked the best. Even with these parameters the model still fumbles and falls on its face a little as it tries to find the optimal point.You can get an idea of how bunpy a ride it is with the added visual below.\n",
        "\n",
        "Smaller learning rates kept getting stuck in local minima then overfitting, higher learning rates kept overshooting and getting worse without overfitting. Fine tuning the model by unfreezing it and retraining the early layers with a mild learning rate caused the error rate to go through the roof. Weight decay worked just fine at 1e-1, did some experimenting but the accuracy never got much higher than 80% with other weight decay settings. As a funny side note I tested this with multiple different models, and the learning rate curves optimal point stayed the same, but the steepness of the slope was different (the larger models had a flatter curve while the smaller models had a sharper one). "
      ]
    },
    {
      "cell_type": "code",
      "execution_count": null,
      "metadata": {
        "id": "1jgFyeN-JaUt"
      },
      "outputs": [],
      "source": [
        "learn.fit_one_cycle(17, max_lr=5e-4)"
      ]
    },
    {
      "cell_type": "code",
      "execution_count": null,
      "metadata": {
        "id": "tn5xwUNxJaUt"
      },
      "outputs": [],
      "source": [
        "learn.save('checkpoint-3')"
      ]
    },
    {
      "cell_type": "code",
      "execution_count": null,
      "metadata": {
        "id": "ajFhrRNcJaUu"
      },
      "outputs": [],
      "source": [
        "learn.model\n",
        "learn.recorder.plot_losses()"
      ]
    },
    {
      "cell_type": "code",
      "execution_count": null,
      "metadata": {
        "id": "3i43MWsFJaUu"
      },
      "outputs": [],
      "source": [
        "interp = ClassificationInterpretation.from_learner(learn)\n",
        "losses,idxs = interp.top_losses()\n",
        "len(data.valid_ds)==len(losses)==len(idxs)\n",
        "interp.plot_confusion_matrix(figsize=(8,8))"
      ]
    },
    {
      "cell_type": "markdown",
      "metadata": {
        "id": "4vAaqVUXJaUu"
      },
      "source": [
        "<a id=\"part-four\"></a>\n",
        "# Part 4: Test sets in FastAI\n",
        "\n",
        "FastAI's data bunch doesn't attempt to compare test data with any labels, it assumes that the test set is only there to be labelled. As such, the cell below allows me to test the dataset on the test set and view the results. The results are output in an n+1 size list, where n refers to the number of evaluation metrics the model is given. I'm not sure what the first entry in the list does, each of the following entries are the scores of the model, output in the order in which they are received.\n",
        "\n",
        "[Back to table of contents](#TOC) "
      ]
    },
    {
      "cell_type": "code",
      "execution_count": null,
      "metadata": {
        "id": "517GrllmJaUu"
      },
      "outputs": [],
      "source": [
        "transform = get_transforms()"
      ]
    },
    {
      "cell_type": "code",
      "execution_count": null,
      "metadata": {
        "id": "YRXn_xDXJaUv"
      },
      "outputs": [],
      "source": [
        "def random_seed(seed_value, use_cuda):\n",
        "    np.random.seed(seed_value) # cpu vars\n",
        "    torch.manual_seed(seed_value) # cpu  vars\n",
        "    random.seed(seed_value) # Python\n",
        "    if use_cuda: \n",
        "        torch.cuda.manual_seed(seed_value)\n",
        "        torch.cuda.manual_seed_all(seed_value) # gpu vars\n",
        "        torch.backends.cudnn.deterministic = True  #needed\n",
        "        torch.backends.cudnn.benchmark = False\n",
        "random_seed(42, True)"
      ]
    },
    {
      "cell_type": "code",
      "execution_count": null,
      "metadata": {
        "id": "SJAIy1ukJaUv"
      },
      "outputs": [],
      "source": [
        "data_test =  ImageDataBunch.from_folder(PATH,\n",
        "                                        #ignore_empty=True,\n",
        "                                  train=\"test/\",#\"train/\",\n",
        "                                  valid=\"test/\",\n",
        "                                  valid_pct=.95,\n",
        "#                                  ds_tfms=transform,\n",
        "                                  size=224,bs=32,\n",
        "                                  num_workers=0\n",
        "                                  ).normalize(imagenet_stats)\n",
        "ev = learn.validate(data_test.train_dl,metrics=[error_rate, FBeta(average='weighted'),accuracy])\n",
        "print('Results from test set \\tError rate:', float(ev[1]), '\\tF Beta Score: ', float(ev[2]),'Accuracy rate:', float(ev[3]))"
      ]
    },
    {
      "cell_type": "markdown",
      "metadata": {
        "id": "aBYKhDKBJaUv"
      },
      "source": [
        "<a id=\"wdtms\"></a>\n",
        "### What does the model see?\n",
        "Below is where the real meat of this notebook is. We have a function which shows what areas of the image contributed the most to the appropriate diagnostic. With this method, one can view an image, see what the algorithmn predicted and why. This can help humans involved in the diagnostic process get a second opinion or bring attention high risk areas.\n",
        "\n",
        "As a side note, I find it interesting that for alzheimers free and early stage MRI images the areas that are most highlighted are around the ventricals (the tubes in the center) while the late stage images often have the outer regions highlighted (which appear to be less dense)."
      ]
    },
    {
      "cell_type": "code",
      "execution_count": null,
      "metadata": {
        "id": "xJNGsnoaJaUv"
      },
      "outputs": [],
      "source": [
        "# The code below is slighty modified from https://www.kaggle.com/daisukelab/verifying-cnn-models-with-cam-and-etc-fast-ai\n",
        "# and that code was a hevily modified version of https://nbviewer.jupyter.org/github/fastai/course-v3/blob/master/nbs/dl1/lesson6-pets-more.ipynb\n",
        "\n",
        "from fastai.callbacks.hooks import *\n",
        "\n",
        "def visualize_cnn_by_cam(learn, data_index):\n",
        "    x, _y = learn.data.valid_ds[data_index]\n",
        "    y = _y.data\n",
        "    if not isinstance(y, (list, np.ndarray)): # single label -> one hot encoding\n",
        "        y = np.eye(learn.data.valid_ds.c)[y]\n",
        "\n",
        "    m = learn.model.eval()\n",
        "    xb,_ = learn.data.one_item(x)\n",
        "    xb_im = Image(learn.data.denorm(xb)[0])\n",
        "    xb = xb.cuda()\n",
        "\n",
        "    def hooked_backward(cat):\n",
        "        with hook_output(m[0]) as hook_a: \n",
        "            with hook_output(m[0], grad=True) as hook_g:\n",
        "                preds = m(xb)\n",
        "                preds[0,int(cat)].backward()\n",
        "        return hook_a,hook_g\n",
        "    def show_heatmap(img, hm, label):\n",
        "        _,axs = plt.subplots(1, 2)\n",
        "        axs[0].set_title(label)\n",
        "        img.show(axs[0])\n",
        "        axs[1].set_title(label)\n",
        "        img.show(axs[1])\n",
        "        axs[1].imshow(hm, alpha=0.6, extent=(0,img.shape[1],img.shape[1],0),\n",
        "                      interpolation='bilinear', cmap='magma');\n",
        "        plt.show()\n",
        "\n",
        "    for y_i in np.where(y > 0)[0]:\n",
        "        hook_a,hook_g = hooked_backward(cat=y_i)\n",
        "        acts = hook_a.stored[0].cpu()\n",
        "        grad = hook_g.stored[0][0].cpu()\n",
        "        grad_chan = grad.mean(1).mean(1)\n",
        "        mult = (acts*grad_chan[...,None,None]).mean(0)\n",
        "        show_heatmap(img=xb_im, hm=mult, label=str(learn.data.valid_ds.y[data_index]))\n",
        "\n",
        "\n",
        "idx_list = [0,1,2,31,3,63, 142, 207]        \n",
        "#idx_list = range(200,220)\n",
        "for idx in idx_list:# range(10):\n",
        "    visualize_cnn_by_cam(learn, idx)"
      ]
    },
    {
      "cell_type": "markdown",
      "metadata": {
        "id": "bWqrx9FdJaUw"
      },
      "source": [
        "<a id=\"conclusions\"></a>\n",
        "\n",
        " # Final Thoughts:\n",
        "\n",
        "The goal of the Task was to hit an accuracy of 98% or greater, looks like the approach I chose to take just gets me to around 95% accuracy with an f_beta score of around .95 (Didn't set any random states so those number can be off by a percentage point or two when you rerun the notebook). The one nitpick about the model I have is that it will generate a small number of false negatives (the model would predict someone does not have alzheimers when they do).\n",
        "\n",
        "In training and validation the model is able to get an accuracy score as high as 99% and an F_beta of around .98, however on test data the model is only able to achieve 95%. The final piece in getting this model's performance up is to focus on how to tone the overfitting down a smidge (In my personal experience, the best performing models are always slightly overfit). There is probably room for improvement with the transforms that I chose for the images. There may also be room for improvement by adding another resizing step or changing some of the dimensions in the current step. It's also possible that combining the results from this model with another would be necessary to close the gap for 98%.\n",
        "\n",
        "In 3/21/2020, this was the most accurate model for this dataset that I'm aware of. Now this model isn't the most accurate, but the heatmap interptiability adds a lot of value to this project\n",
        "\n",
        "This year I've challenged myself to complete one task on Kaggle per week, in order to develop a larger Data Science portfolio. If you found this notebook useful or interesting please give it an upvote. I'm always open to constructive feedback. If you have any questions, comments, concerns, or if you would like to collaborate on a future task of the week feel free to leave a comment here or message me directly. For past TOTW check out the link to my page on github for this ongoing project\n",
        "https://github.com/Neil-Kloper/Weekly-Kaggle-Task/wiki\n",
        "\n",
        "[Back to table of contents](#TOC) "
      ]
    },
    {
      "cell_type": "code",
      "source": [],
      "metadata": {
        "id": "8qjHRBnQOE4x"
      },
      "execution_count": null,
      "outputs": []
    }
  ],
  "metadata": {
    "kernelspec": {
      "display_name": "Python 3",
      "language": "python",
      "name": "python3"
    },
    "language_info": {
      "codemirror_mode": {
        "name": "ipython",
        "version": 3
      },
      "file_extension": ".py",
      "mimetype": "text/x-python",
      "name": "python",
      "nbconvert_exporter": "python",
      "pygments_lexer": "ipython3",
      "version": "3.6.6"
    },
    "colab": {
      "provenance": [],
      "private_outputs": true,
      "include_colab_link": true
    },
    "accelerator": "GPU",
    "gpuClass": "standard"
  },
  "nbformat": 4,
  "nbformat_minor": 0
}