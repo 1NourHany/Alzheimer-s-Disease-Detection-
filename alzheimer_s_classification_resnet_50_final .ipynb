{
  "cells": [
    {
      "metadata": {
        "id": "5wD1cLNX5lMt"
      },
      "cell_type": "markdown",
      "source": [
        "### IMPORT LIBRARIES"
      ]
    },
    {
      "metadata": {
        "_uuid": "d629ff2d2480ee46fbb7e2d37f6b5fab8052498a",
        "_cell_guid": "79c7e3d0-c299-4dcb-8224-4455121ee9b0",
        "trusted": true,
        "id": "dcq8iwDP5lMv"
      },
      "cell_type": "code",
      "source": [
        "import numpy as np\n",
        "import pandas as pd\n",
        "import matplotlib.pyplot as plt\n",
        "import seaborn as sn\n",
        "import skimage.io\n",
        "import os \n",
        "import tqdm\n",
        "import glob\n",
        "import tensorflow \n",
        "\n",
        "from tqdm import tqdm\n",
        "from sklearn.utils import shuffle\n",
        "from sklearn import metrics\n",
        "from sklearn.metrics import confusion_matrix, classification_report\n",
        "from sklearn.model_selection import train_test_split\n",
        "\n",
        "from skimage.io import imread, imshow\n",
        "from skimage.transform import resize\n",
        "from skimage.color import grey2rgb\n",
        "\n",
        "import tensorflow as tf\n",
        "from tensorflow.keras.preprocessing.image import ImageDataGenerator\n",
        "from tensorflow.keras.preprocessing import image_dataset_from_directory\n",
        "from tensorflow.keras.models import Sequential\n",
        "from tensorflow.keras.layers import InputLayer, BatchNormalization, Dropout, Flatten, Dense, Activation, MaxPool2D, Conv2D\n",
        "from tensorflow.keras.callbacks import EarlyStopping, ModelCheckpoint\n",
        "from tensorflow.keras.applications.resnet50 import ResNet50\n",
        "from tensorflow.keras.utils import to_categorical\n",
        "from keras import optimizers\n",
        "\n",
        "from keras.callbacks import Callback,ModelCheckpoint\n",
        "from keras.models import Sequential,load_model\n",
        "from keras.layers import Dense, Dropout\n",
        "from keras.wrappers.scikit_learn import KerasClassifier\n",
        "import keras.backend as K\n",
        "\n",
        "#import tensorflow_addons as tfa\n",
        "#from tensorflow.keras.metrics import Metric\n",
        "#from tensorflow_addons.utils.types import AcceptableDTypes, FloatTensorLike\n",
        "from typeguard import typechecked\n",
        "from typing import Optional"
      ],
      "execution_count": 1,
      "outputs": []
    },
    {
      "metadata": {
        "trusted": true,
        "id": "DZsmVG5H5lMy"
      },
      "cell_type": "code",
      "source": [
        "#AUTOTUNE = tf.data.experimental.AUTOTUNE"
      ],
      "execution_count": 2,
      "outputs": []
    },
    {
      "metadata": {
        "trusted": true,
        "id": "WLE4Mr0E5lMy"
      },
      "cell_type": "code",
      "source": [
        "train_datagen = ImageDataGenerator(rescale = 1./255,\n",
        "                                   rotation_range=30,\n",
        "                                   zoom_range=0.2,\n",
        "                                   horizontal_flip=True,\n",
        "                                   vertical_flip=True,\n",
        "                                   validation_split = 0.2)\n",
        "\n",
        "valid_datagen = ImageDataGenerator(rescale = 1./255,\n",
        "                                  validation_split = 0.2)\n",
        "\n",
        "test_datagen  = ImageDataGenerator(rescale = 1./255)"
      ],
      "execution_count": 3,
      "outputs": []
    },
    {
      "cell_type": "code",
      "source": [
        "! pip install -q kaggle\n",
        "from google.colab import files\n",
        "files.upload()\n",
        "! mkdir ~/.kaggle\n",
        "! cp kaggle.json ~/.kaggle/\n",
        "! chmod 600 ~/.kaggle/kaggle.json\n",
        "!kaggle datasets download -d tourist55/alzheimers-dataset-4-class-of-images"
      ],
      "metadata": {
        "colab": {
          "base_uri": "https://localhost:8080/",
          "height": 125
        },
        "id": "c_ZCJkA-wSSh",
        "outputId": "a9a6dd5e-7e50-49fc-913a-5a41190cce59"
      },
      "execution_count": 4,
      "outputs": [
        {
          "output_type": "display_data",
          "data": {
            "text/plain": [
              "<IPython.core.display.HTML object>"
            ],
            "text/html": [
              "\n",
              "     <input type=\"file\" id=\"files-1d439198-418b-481f-a609-5d74bd623ea0\" name=\"files[]\" multiple disabled\n",
              "        style=\"border:none\" />\n",
              "     <output id=\"result-1d439198-418b-481f-a609-5d74bd623ea0\">\n",
              "      Upload widget is only available when the cell has been executed in the\n",
              "      current browser session. Please rerun this cell to enable.\n",
              "      </output>\n",
              "      <script>// Copyright 2017 Google LLC\n",
              "//\n",
              "// Licensed under the Apache License, Version 2.0 (the \"License\");\n",
              "// you may not use this file except in compliance with the License.\n",
              "// You may obtain a copy of the License at\n",
              "//\n",
              "//      http://www.apache.org/licenses/LICENSE-2.0\n",
              "//\n",
              "// Unless required by applicable law or agreed to in writing, software\n",
              "// distributed under the License is distributed on an \"AS IS\" BASIS,\n",
              "// WITHOUT WARRANTIES OR CONDITIONS OF ANY KIND, either express or implied.\n",
              "// See the License for the specific language governing permissions and\n",
              "// limitations under the License.\n",
              "\n",
              "/**\n",
              " * @fileoverview Helpers for google.colab Python module.\n",
              " */\n",
              "(function(scope) {\n",
              "function span(text, styleAttributes = {}) {\n",
              "  const element = document.createElement('span');\n",
              "  element.textContent = text;\n",
              "  for (const key of Object.keys(styleAttributes)) {\n",
              "    element.style[key] = styleAttributes[key];\n",
              "  }\n",
              "  return element;\n",
              "}\n",
              "\n",
              "// Max number of bytes which will be uploaded at a time.\n",
              "const MAX_PAYLOAD_SIZE = 100 * 1024;\n",
              "\n",
              "function _uploadFiles(inputId, outputId) {\n",
              "  const steps = uploadFilesStep(inputId, outputId);\n",
              "  const outputElement = document.getElementById(outputId);\n",
              "  // Cache steps on the outputElement to make it available for the next call\n",
              "  // to uploadFilesContinue from Python.\n",
              "  outputElement.steps = steps;\n",
              "\n",
              "  return _uploadFilesContinue(outputId);\n",
              "}\n",
              "\n",
              "// This is roughly an async generator (not supported in the browser yet),\n",
              "// where there are multiple asynchronous steps and the Python side is going\n",
              "// to poll for completion of each step.\n",
              "// This uses a Promise to block the python side on completion of each step,\n",
              "// then passes the result of the previous step as the input to the next step.\n",
              "function _uploadFilesContinue(outputId) {\n",
              "  const outputElement = document.getElementById(outputId);\n",
              "  const steps = outputElement.steps;\n",
              "\n",
              "  const next = steps.next(outputElement.lastPromiseValue);\n",
              "  return Promise.resolve(next.value.promise).then((value) => {\n",
              "    // Cache the last promise value to make it available to the next\n",
              "    // step of the generator.\n",
              "    outputElement.lastPromiseValue = value;\n",
              "    return next.value.response;\n",
              "  });\n",
              "}\n",
              "\n",
              "/**\n",
              " * Generator function which is called between each async step of the upload\n",
              " * process.\n",
              " * @param {string} inputId Element ID of the input file picker element.\n",
              " * @param {string} outputId Element ID of the output display.\n",
              " * @return {!Iterable<!Object>} Iterable of next steps.\n",
              " */\n",
              "function* uploadFilesStep(inputId, outputId) {\n",
              "  const inputElement = document.getElementById(inputId);\n",
              "  inputElement.disabled = false;\n",
              "\n",
              "  const outputElement = document.getElementById(outputId);\n",
              "  outputElement.innerHTML = '';\n",
              "\n",
              "  const pickedPromise = new Promise((resolve) => {\n",
              "    inputElement.addEventListener('change', (e) => {\n",
              "      resolve(e.target.files);\n",
              "    });\n",
              "  });\n",
              "\n",
              "  const cancel = document.createElement('button');\n",
              "  inputElement.parentElement.appendChild(cancel);\n",
              "  cancel.textContent = 'Cancel upload';\n",
              "  const cancelPromise = new Promise((resolve) => {\n",
              "    cancel.onclick = () => {\n",
              "      resolve(null);\n",
              "    };\n",
              "  });\n",
              "\n",
              "  // Wait for the user to pick the files.\n",
              "  const files = yield {\n",
              "    promise: Promise.race([pickedPromise, cancelPromise]),\n",
              "    response: {\n",
              "      action: 'starting',\n",
              "    }\n",
              "  };\n",
              "\n",
              "  cancel.remove();\n",
              "\n",
              "  // Disable the input element since further picks are not allowed.\n",
              "  inputElement.disabled = true;\n",
              "\n",
              "  if (!files) {\n",
              "    return {\n",
              "      response: {\n",
              "        action: 'complete',\n",
              "      }\n",
              "    };\n",
              "  }\n",
              "\n",
              "  for (const file of files) {\n",
              "    const li = document.createElement('li');\n",
              "    li.append(span(file.name, {fontWeight: 'bold'}));\n",
              "    li.append(span(\n",
              "        `(${file.type || 'n/a'}) - ${file.size} bytes, ` +\n",
              "        `last modified: ${\n",
              "            file.lastModifiedDate ? file.lastModifiedDate.toLocaleDateString() :\n",
              "                                    'n/a'} - `));\n",
              "    const percent = span('0% done');\n",
              "    li.appendChild(percent);\n",
              "\n",
              "    outputElement.appendChild(li);\n",
              "\n",
              "    const fileDataPromise = new Promise((resolve) => {\n",
              "      const reader = new FileReader();\n",
              "      reader.onload = (e) => {\n",
              "        resolve(e.target.result);\n",
              "      };\n",
              "      reader.readAsArrayBuffer(file);\n",
              "    });\n",
              "    // Wait for the data to be ready.\n",
              "    let fileData = yield {\n",
              "      promise: fileDataPromise,\n",
              "      response: {\n",
              "        action: 'continue',\n",
              "      }\n",
              "    };\n",
              "\n",
              "    // Use a chunked sending to avoid message size limits. See b/62115660.\n",
              "    let position = 0;\n",
              "    do {\n",
              "      const length = Math.min(fileData.byteLength - position, MAX_PAYLOAD_SIZE);\n",
              "      const chunk = new Uint8Array(fileData, position, length);\n",
              "      position += length;\n",
              "\n",
              "      const base64 = btoa(String.fromCharCode.apply(null, chunk));\n",
              "      yield {\n",
              "        response: {\n",
              "          action: 'append',\n",
              "          file: file.name,\n",
              "          data: base64,\n",
              "        },\n",
              "      };\n",
              "\n",
              "      let percentDone = fileData.byteLength === 0 ?\n",
              "          100 :\n",
              "          Math.round((position / fileData.byteLength) * 100);\n",
              "      percent.textContent = `${percentDone}% done`;\n",
              "\n",
              "    } while (position < fileData.byteLength);\n",
              "  }\n",
              "\n",
              "  // All done.\n",
              "  yield {\n",
              "    response: {\n",
              "      action: 'complete',\n",
              "    }\n",
              "  };\n",
              "}\n",
              "\n",
              "scope.google = scope.google || {};\n",
              "scope.google.colab = scope.google.colab || {};\n",
              "scope.google.colab._files = {\n",
              "  _uploadFiles,\n",
              "  _uploadFilesContinue,\n",
              "};\n",
              "})(self);\n",
              "</script> "
            ]
          },
          "metadata": {}
        },
        {
          "output_type": "stream",
          "name": "stdout",
          "text": [
            "Saving kaggle.json to kaggle.json\n",
            "Downloading alzheimers-dataset-4-class-of-images.zip to /content\n",
            " 50% 17.0M/34.1M [00:00<00:00, 89.5MB/s]\n",
            "100% 34.1M/34.1M [00:00<00:00, 119MB/s] \n"
          ]
        }
      ]
    },
    {
      "cell_type": "code",
      "source": [
        "import zipfile\n",
        "local_zip = '/content/alzheimers-dataset-4-class-of-images.zip'\n",
        "data = zipfile.ZipFile(local_zip, 'r')\n",
        "data.extractall('/content/Alzheimer_s Dataset')\n",
        "data.close()"
      ],
      "metadata": {
        "id": "9GufGOFewXY_"
      },
      "execution_count": 5,
      "outputs": []
    },
    {
      "metadata": {
        "trusted": true,
        "colab": {
          "base_uri": "https://localhost:8080/"
        },
        "id": "mJnhg9ny5lMz",
        "outputId": "747eb40c-4fbd-4389-e0db-56003ce92217"
      },
      "cell_type": "code",
      "source": [
        "\n",
        "train_dataset  = train_datagen.flow_from_directory(directory = '/content/Alzheimer_s Dataset/Alzheimer_s Dataset/train',\n",
        "                                                   target_size = (224,224),\n",
        "                                                   class_mode = 'categorical',\n",
        "                                                   subset = 'training',\n",
        "                                                   shuffle=True,\n",
        "                                                   batch_size = 16)"
      ],
      "execution_count": 6,
      "outputs": [
        {
          "output_type": "stream",
          "name": "stdout",
          "text": [
            "Found 4098 images belonging to 4 classes.\n"
          ]
        }
      ]
    },
    {
      "metadata": {
        "trusted": true,
        "colab": {
          "base_uri": "https://localhost:8080/"
        },
        "id": "Cfb6vaNW5lM0",
        "outputId": "8bb87ffe-ea91-4a6d-dd0c-a45f160319be"
      },
      "cell_type": "code",
      "source": [
        "\n",
        "valid_dataset = valid_datagen.flow_from_directory(directory = '/content/Alzheimer_s Dataset/Alzheimer_s Dataset/train',\n",
        "                                                  target_size = (224,224),\n",
        "                                                  class_mode = 'categorical',\n",
        "                                                  subset = 'validation',\n",
        "                                                  shuffle=True,\n",
        "                                                  batch_size = 16)"
      ],
      "execution_count": 7,
      "outputs": [
        {
          "output_type": "stream",
          "name": "stdout",
          "text": [
            "Found 1023 images belonging to 4 classes.\n"
          ]
        }
      ]
    },
    {
      "metadata": {
        "trusted": true,
        "colab": {
          "base_uri": "https://localhost:8080/"
        },
        "id": "koCkeSSQ5lM1",
        "outputId": "f91721c9-ce34-4889-e724-090de79d8107"
      },
      "cell_type": "code",
      "source": [
        "#test_dataset = tf.keras.preprocessing.image_dataset_from_directory(\"../input/alzheimers-dataset-4-class-of-images/Alzheimer_s Dataset/test\",\n",
        "##                                                            shuffle=False,\n",
        "#                                                            image_size=(224,224),\n",
        "#                                                            batch_size=32,\n",
        "#)\n",
        "\n",
        "test_dataset = test_datagen.flow_from_directory(directory = '/content/Alzheimer_s Dataset/Alzheimer_s Dataset/test',\n",
        "                                                  target_size = (224,224),\n",
        "                                                  class_mode = 'categorical',\n",
        "                                                batch_size = 1, shuffle = False\n",
        "                                              )"
      ],
      "execution_count": 8,
      "outputs": [
        {
          "output_type": "stream",
          "name": "stdout",
          "text": [
            "Found 1279 images belonging to 4 classes.\n"
          ]
        }
      ]
    },
    {
      "cell_type": "code",
      "source": [
        "fig, ax = plt.subplots(nrows = 1, ncols = 5, figsize=(20,20))\n",
        "\n",
        "for i in tqdm(range(0,5)):\n",
        "    rand1 = np.random.randint(len(train_dataset))\n",
        "    rand2 = np.random.randint(100)\n",
        "    ax[i].imshow(train_dataset[rand1][0][rand2])\n",
        "    ax[i].axis('off')\n",
        "    a = train_dataset[rand1][1][rand2]\n",
        "    if a[0] == 1:\n",
        "        ax[i].set_title('Mild Dementia')\n",
        "    elif a[1] == 1:\n",
        "        ax[i].set_title('Moderate Dementia')\n",
        "    elif a[2] == 1:\n",
        "        ax[i].set_title('Non Demetia')\n",
        "    elif a[3] == 1:\n",
        "        ax[i].set_title('Very Mild Dementia')"
      ],
      "metadata": {
        "colab": {
          "base_uri": "https://localhost:8080/",
          "height": 1000
        },
        "id": "sgHFZTQayvxm",
        "outputId": "921a2955-9caa-45a6-bda8-24a053de17ad"
      },
      "execution_count": 10,
      "outputs": [
        {
          "output_type": "stream",
          "name": "stderr",
          "text": [
            "  0%|          | 0/5 [00:00<?, ?it/s]\n"
          ]
        },
        {
          "output_type": "error",
          "ename": "IndexError",
          "evalue": "ignored",
          "traceback": [
            "\u001b[0;31m---------------------------------------------------------------------------\u001b[0m",
            "\u001b[0;31mIndexError\u001b[0m                                Traceback (most recent call last)",
            "\u001b[0;32m<ipython-input-10-d6e300a51348>\u001b[0m in \u001b[0;36m<module>\u001b[0;34m\u001b[0m\n\u001b[1;32m      4\u001b[0m     \u001b[0mrand1\u001b[0m \u001b[0;34m=\u001b[0m \u001b[0mnp\u001b[0m\u001b[0;34m.\u001b[0m\u001b[0mrandom\u001b[0m\u001b[0;34m.\u001b[0m\u001b[0mrandint\u001b[0m\u001b[0;34m(\u001b[0m\u001b[0mlen\u001b[0m\u001b[0;34m(\u001b[0m\u001b[0mtrain_dataset\u001b[0m\u001b[0;34m)\u001b[0m\u001b[0;34m)\u001b[0m\u001b[0;34m\u001b[0m\u001b[0;34m\u001b[0m\u001b[0m\n\u001b[1;32m      5\u001b[0m     \u001b[0mrand2\u001b[0m \u001b[0;34m=\u001b[0m \u001b[0mnp\u001b[0m\u001b[0;34m.\u001b[0m\u001b[0mrandom\u001b[0m\u001b[0;34m.\u001b[0m\u001b[0mrandint\u001b[0m\u001b[0;34m(\u001b[0m\u001b[0;36m100\u001b[0m\u001b[0;34m)\u001b[0m\u001b[0;34m\u001b[0m\u001b[0;34m\u001b[0m\u001b[0m\n\u001b[0;32m----> 6\u001b[0;31m     \u001b[0max\u001b[0m\u001b[0;34m[\u001b[0m\u001b[0mi\u001b[0m\u001b[0;34m]\u001b[0m\u001b[0;34m.\u001b[0m\u001b[0mimshow\u001b[0m\u001b[0;34m(\u001b[0m\u001b[0mtrain_dataset\u001b[0m\u001b[0;34m[\u001b[0m\u001b[0mrand1\u001b[0m\u001b[0;34m]\u001b[0m\u001b[0;34m[\u001b[0m\u001b[0;36m0\u001b[0m\u001b[0;34m]\u001b[0m\u001b[0;34m[\u001b[0m\u001b[0mrand2\u001b[0m\u001b[0;34m]\u001b[0m\u001b[0;34m)\u001b[0m\u001b[0;34m\u001b[0m\u001b[0;34m\u001b[0m\u001b[0m\n\u001b[0m\u001b[1;32m      7\u001b[0m     \u001b[0max\u001b[0m\u001b[0;34m[\u001b[0m\u001b[0mi\u001b[0m\u001b[0;34m]\u001b[0m\u001b[0;34m.\u001b[0m\u001b[0maxis\u001b[0m\u001b[0;34m(\u001b[0m\u001b[0;34m'off'\u001b[0m\u001b[0;34m)\u001b[0m\u001b[0;34m\u001b[0m\u001b[0;34m\u001b[0m\u001b[0m\n\u001b[1;32m      8\u001b[0m     \u001b[0ma\u001b[0m \u001b[0;34m=\u001b[0m \u001b[0mtrain_dataset\u001b[0m\u001b[0;34m[\u001b[0m\u001b[0mrand1\u001b[0m\u001b[0;34m]\u001b[0m\u001b[0;34m[\u001b[0m\u001b[0;36m1\u001b[0m\u001b[0;34m]\u001b[0m\u001b[0;34m[\u001b[0m\u001b[0mrand2\u001b[0m\u001b[0;34m]\u001b[0m\u001b[0;34m\u001b[0m\u001b[0;34m\u001b[0m\u001b[0m\n",
            "\u001b[0;31mIndexError\u001b[0m: index 97 is out of bounds for axis 0 with size 16"
          ]
        },
        {
          "output_type": "display_data",
          "data": {
            "text/plain": [
              "<Figure size 1440x1440 with 5 Axes>"
            ],
            "image/png": "[encoded data removed]"
          },
          "metadata": {
            "needs_background": "light"
          }
        }
      ]
    },
    {
      "metadata": {
        "id": "kX-JwANu5lM2"
      },
      "cell_type": "markdown",
      "source": [
        "## feature preprocessing and label encoding."
      ]
    },
    {
      "metadata": {
        "id": "biUGuFoC5lM3"
      },
      "cell_type": "markdown",
      "source": [
        "### MODEL BUILDING"
      ]
    },
    {
      "metadata": {
        "trusted": true,
        "colab": {
          "base_uri": "https://localhost:8080/"
        },
        "id": "HCTgj2cH5lM4",
        "outputId": "c9f62885-37af-45ce-9188-ed3e9027b2ef"
      },
      "cell_type": "code",
      "source": [
        "base_model =  ResNet50(input_shape=(224,224,3), weights='imagenet', include_top=False)"
      ],
      "execution_count": 11,
      "outputs": [
        {
          "output_type": "stream",
          "name": "stdout",
          "text": [
            "Downloading data from https://storage.googleapis.com/tensorflow/keras-applications/resnet/resnet50_weights_tf_dim_ordering_tf_kernels_notop.h5\n",
            "94765736/94765736 [==============================] - 0s 0us/step\n"
          ]
        }
      ]
    },
    {
      "metadata": {
        "trusted": true,
        "id": "kCr05aPl5lM5"
      },
      "cell_type": "code",
      "source": [
        "# Freezing Layers\n",
        "\n",
        "for layer in base_model.layers:\n",
        "    layer.trainable = False\n",
        "x = Flatten()(base_model.output)\n"
      ],
      "execution_count": 13,
      "outputs": []
    },
    {
      "metadata": {
        "trusted": true,
        "id": "YrQoHPMR5lM5"
      },
      "cell_type": "code",
      "source": [
        "# Building Model\n",
        "\n",
        "model=Sequential()\n",
        "model.add(base_model)\n",
        "model.add(Dropout(0.5))\n",
        "model.add(Flatten())\n",
        "model.add(BatchNormalization())\n",
        "model.add(Dense(2048,kernel_initializer='he_uniform'))\n",
        "model.add(BatchNormalization())\n",
        "model.add(Activation('relu'))\n",
        "model.add(Dropout(0.5))\n",
        "model.add(Dense(1024,kernel_initializer='he_uniform'))\n",
        "model.add(BatchNormalization())\n",
        "model.add(Activation('relu'))\n",
        "model.add(Dropout(0.5))\n",
        "model.add(Dense(4,activation='softmax'))"
      ],
      "execution_count": 15,
      "outputs": []
    },
    {
      "cell_type": "code",
      "source": [
        "#pretrained_model = tf.keras.applications.resnet50.ResNet50(\n",
        "#                    input_shape=(224, 224, 3),\n",
        "#                    include_top=False,\n",
        " #                   weights= None ,\n",
        "  #                  pooling='avg')\n",
        "\n",
        "#pretrained_model.trainable = False\n",
        "#inputs = pretrained_model.input\n",
        "#x = tf.keras.layers.Dense(128, activation='relu')(pretrained_model.output)\n",
        "#x = tf.keras.layers.Dense(50, activation='relu')(x)\n",
        "#outputs = tf.keras.layers.Dense(4, activation='softmax')(x)\n",
        "#model = tf.keras.Model(inputs, outputs)\n",
        "#print(model.summary())"
      ],
      "metadata": {
        "id": "drRq-NMcJ1iK"
      },
      "execution_count": null,
      "outputs": []
    },
    {
      "metadata": {
        "trusted": true,
        "colab": {
          "base_uri": "https://localhost:8080/"
        },
        "id": "5_YnHkTh5lM6",
        "outputId": "1bf721cf-fc9b-4263-f9b7-8fd3ea259d4e"
      },
      "cell_type": "code",
      "source": [
        "# Model Summary\n",
        "\n",
        "model.summary()"
      ],
      "execution_count": 16,
      "outputs": [
        {
          "output_type": "stream",
          "name": "stdout",
          "text": [
            "Model: \"sequential_1\"\n",
            "_________________________________________________________________\n",
            " Layer (type)                Output Shape              Param #   \n",
            "=================================================================\n",
            " resnet50 (Functional)       (None, 7, 7, 2048)        23587712  \n",
            "                                                                 \n",
            " dropout_3 (Dropout)         (None, 7, 7, 2048)        0         \n",
            "                                                                 \n",
            " flatten_2 (Flatten)         (None, 100352)            0         \n",
            "                                                                 \n",
            " batch_normalization_3 (Batc  (None, 100352)           401408    \n",
            " hNormalization)                                                 \n",
            "                                                                 \n",
            " dense_3 (Dense)             (None, 2048)              205522944 \n",
            "                                                                 \n",
            " batch_normalization_4 (Batc  (None, 2048)             8192      \n",
            " hNormalization)                                                 \n",
            "                                                                 \n",
            " activation_2 (Activation)   (None, 2048)              0         \n",
            "                                                                 \n",
            " dropout_4 (Dropout)         (None, 2048)              0         \n",
            "                                                                 \n",
            " dense_4 (Dense)             (None, 1024)              2098176   \n",
            "                                                                 \n",
            " batch_normalization_5 (Batc  (None, 1024)             4096      \n",
            " hNormalization)                                                 \n",
            "                                                                 \n",
            " activation_3 (Activation)   (None, 1024)              0         \n",
            "                                                                 \n",
            " dropout_5 (Dropout)         (None, 1024)              0         \n",
            "                                                                 \n",
            " dense_5 (Dense)             (None, 4)                 4100      \n",
            "                                                                 \n",
            "=================================================================\n",
            "Total params: 231,626,628\n",
            "Trainable params: 207,832,068\n",
            "Non-trainable params: 23,794,560\n",
            "_________________________________________________________________\n"
          ]
        }
      ]
    },
    {
      "metadata": {
        "trusted": true,
        "id": "juvTeD135lM6"
      },
      "cell_type": "code",
      "source": [
        "def f1_score(y_true, y_pred): #taken from old keras source code\n",
        "    true_positives = K.sum(K.round(K.clip(y_true * y_pred, 0, 1)))\n",
        "    possible_positives = K.sum(K.round(K.clip(y_true, 0, 1)))\n",
        "    predicted_positives = K.sum(K.round(K.clip(y_pred, 0, 1)))\n",
        "    precision = true_positives / (predicted_positives + K.epsilon())\n",
        "    recall = true_positives / (possible_positives + K.epsilon())\n",
        "    f1_val = 2*(precision*recall)/(precision+recall+K.epsilon())\n",
        "    return f1_val"
      ],
      "execution_count": 17,
      "outputs": []
    },
    {
      "cell_type": "code",
      "source": [
        "# Model Compile \n",
        "\n",
        "OPT    = tensorflow.keras.optimizers.Adam(lr=0.001) #improve weights \n",
        "METRICS = [\n",
        "      tensorflow.keras.metrics.CategoricalAccuracy(name='Categorical Accuracy'),\n",
        "      tensorflow.keras.metrics.Precision(name='precision'),\n",
        "      tensorflow.keras.metrics.Recall(name='recall'),\n",
        "      tensorflow.keras.metrics.AUC(name='auc') ,\n",
        "        f1_score,\n",
        "          ]\n",
        "model.compile(loss='categorical_crossentropy',\n",
        "              metrics=METRICS,\n",
        "              optimizer=OPT)"
      ],
      "metadata": {
        "id": "D3wwQ89A9Mdd",
        "colab": {
          "base_uri": "https://localhost:8080/"
        },
        "outputId": "2b4feeed-2596-4dc1-d384-ea04d1e10240"
      },
      "execution_count": 19,
      "outputs": [
        {
          "output_type": "stream",
          "name": "stderr",
          "text": [
            "/usr/local/lib/python3.8/dist-packages/keras/optimizers/optimizer_v2/adam.py:110: UserWarning: The `lr` argument is deprecated, use `learning_rate` instead.\n",
            "  super(Adam, self).__init__(name, **kwargs)\n"
          ]
        }
      ]
    },
    {
      "cell_type": "code",
      "source": [
        "from google.colab import drive\n",
        "drive.mount('/content/drive')"
      ],
      "metadata": {
        "colab": {
          "base_uri": "https://localhost:8080/"
        },
        "id": "CVcMp75IEVUq",
        "outputId": "2621ec62-4389-433c-d902-74836a03243a"
      },
      "execution_count": 20,
      "outputs": [
        {
          "output_type": "stream",
          "name": "stdout",
          "text": [
            "Mounted at /content/drive\n"
          ]
        }
      ]
    },
    {
      "cell_type": "code",
      "source": [
        "filepath = '/content/drive/MyDrive/best_weights_resnet50_final.hdf5'\n",
        "\n",
        "earlystopping = EarlyStopping(monitor = 'val_Categorical Accuracy', \n",
        "                              mode = 'max' , \n",
        "                              patience = 8,\n",
        "                              verbose = 1)\n",
        "\n",
        "checkpoint    = ModelCheckpoint(filepath, \n",
        "                                monitor = 'val_Categorical Accuracy', \n",
        "                                mode='max', \n",
        "                                save_best_only=True, \n",
        "                                verbose = 1)\n",
        "\n",
        "\n",
        "callback_list = [earlystopping, checkpoint]"
      ],
      "metadata": {
        "id": "jUwLnU5k9QJE"
      },
      "execution_count": 21,
      "outputs": []
    },
    {
      "cell_type": "code",
      "source": [],
      "metadata": {
        "id": "VKFXmnp_nVPj"
      },
      "execution_count": 21,
      "outputs": []
    },
    {
      "metadata": {
        "trusted": true,
        "colab": {
          "base_uri": "https://localhost:8080/"
        },
        "id": "orlzQ84M5lM8",
        "outputId": "6436b34d-02fa-4a7e-f37a-587864a93c76"
      },
      "cell_type": "code",
      "source": [
        "history=model.fit(train_dataset,\n",
        "                        validation_data=valid_dataset,\n",
        "                        epochs = 50,\n",
        "                        verbose = 1,\n",
        "                         callbacks=callback_list)"
      ],
      "execution_count": 22,
      "outputs": [
        {
          "output_type": "stream",
          "name": "stdout",
          "text": [
            "Epoch 1/50\n",
            "257/257 [==============================] - ETA: 0s - loss: 1.4187 - Categorical Accuracy: 0.4622 - precision: 0.4802 - recall: 0.4117 - auc: 0.7549 - f1_score: 0.4431\n",
            "Epoch 1: val_Categorical Accuracy improved from -inf to 0.38025, saving model to /content/drive/MyDrive/best_weights_resnet50_final.hdf5\n",
            "257/257 [==============================] - 82s 271ms/step - loss: 1.4187 - Categorical Accuracy: 0.4622 - precision: 0.4802 - recall: 0.4117 - auc: 0.7549 - f1_score: 0.4431 - val_loss: 1.2937 - val_Categorical Accuracy: 0.3803 - val_precision: 0.3850 - val_recall: 0.2307 - val_auc: 0.7027 - val_f1_score: 0.2845\n",
            "Epoch 2/50\n",
            "257/257 [==============================] - ETA: 0s - loss: 1.1266 - Categorical Accuracy: 0.4932 - precision: 0.5252 - recall: 0.3992 - auc: 0.7883 - f1_score: 0.4527\n",
            "Epoch 2: val_Categorical Accuracy improved from 0.38025 to 0.45259, saving model to /content/drive/MyDrive/best_weights_resnet50_final.hdf5\n",
            "257/257 [==============================] - 83s 322ms/step - loss: 1.1266 - Categorical Accuracy: 0.4932 - precision: 0.5252 - recall: 0.3992 - auc: 0.7883 - f1_score: 0.4527 - val_loss: 1.2551 - val_Categorical Accuracy: 0.4526 - val_precision: 0.5206 - val_recall: 0.3705 - val_auc: 0.7438 - val_f1_score: 0.4303\n",
            "Epoch 3/50\n",
            "257/257 [==============================] - ETA: 0s - loss: 1.0715 - Categorical Accuracy: 0.5039 - precision: 0.5420 - recall: 0.3907 - auc: 0.7969 - f1_score: 0.4507\n",
            "Epoch 3: val_Categorical Accuracy did not improve from 0.45259\n",
            "257/257 [==============================] - 56s 218ms/step - loss: 1.0715 - Categorical Accuracy: 0.5039 - precision: 0.5420 - recall: 0.3907 - auc: 0.7969 - f1_score: 0.4507 - val_loss: 1.2104 - val_Categorical Accuracy: 0.4506 - val_precision: 0.4564 - val_recall: 0.3783 - val_auc: 0.7731 - val_f1_score: 0.4131\n",
            "Epoch 4/50\n",
            "257/257 [==============================] - ETA: 0s - loss: 1.0225 - Categorical Accuracy: 0.5200 - precision: 0.5748 - recall: 0.3948 - auc: 0.8087 - f1_score: 0.4645\n",
            "Epoch 4: val_Categorical Accuracy improved from 0.45259 to 0.46041, saving model to /content/drive/MyDrive/best_weights_resnet50_final.hdf5\n",
            "257/257 [==============================] - 72s 279ms/step - loss: 1.0225 - Categorical Accuracy: 0.5200 - precision: 0.5748 - recall: 0.3948 - auc: 0.8087 - f1_score: 0.4645 - val_loss: 1.1621 - val_Categorical Accuracy: 0.4604 - val_precision: 0.5112 - val_recall: 0.3578 - val_auc: 0.7699 - val_f1_score: 0.4201\n",
            "Epoch 5/50\n",
            "257/257 [==============================] - ETA: 0s - loss: 1.0128 - Categorical Accuracy: 0.5168 - precision: 0.5642 - recall: 0.4000 - auc: 0.8117 - f1_score: 0.4680\n",
            "Epoch 5: val_Categorical Accuracy improved from 0.46041 to 0.52395, saving model to /content/drive/MyDrive/best_weights_resnet50_final.hdf5\n",
            "257/257 [==============================] - 76s 295ms/step - loss: 1.0128 - Categorical Accuracy: 0.5168 - precision: 0.5642 - recall: 0.4000 - auc: 0.8117 - f1_score: 0.4680 - val_loss: 1.1675 - val_Categorical Accuracy: 0.5239 - val_precision: 0.5147 - val_recall: 0.4106 - val_auc: 0.7763 - val_f1_score: 0.4556\n",
            "Epoch 6/50\n",
            "257/257 [==============================] - ETA: 0s - loss: 0.9967 - Categorical Accuracy: 0.5242 - precision: 0.5852 - recall: 0.4046 - auc: 0.8161 - f1_score: 0.4741\n",
            "Epoch 6: val_Categorical Accuracy did not improve from 0.52395\n",
            "257/257 [==============================] - 62s 241ms/step - loss: 0.9967 - Categorical Accuracy: 0.5242 - precision: 0.5852 - recall: 0.4046 - auc: 0.8161 - f1_score: 0.4741 - val_loss: 1.3604 - val_Categorical Accuracy: 0.5015 - val_precision: 0.5173 - val_recall: 0.4379 - val_auc: 0.7672 - val_f1_score: 0.4729\n",
            "Epoch 7/50\n",
            "257/257 [==============================] - ETA: 0s - loss: 1.0066 - Categorical Accuracy: 0.5142 - precision: 0.5712 - recall: 0.3946 - auc: 0.8120 - f1_score: 0.4642\n",
            "Epoch 7: val_Categorical Accuracy did not improve from 0.52395\n",
            "257/257 [==============================] - 55s 212ms/step - loss: 1.0066 - Categorical Accuracy: 0.5142 - precision: 0.5712 - recall: 0.3946 - auc: 0.8120 - f1_score: 0.4642 - val_loss: 1.2089 - val_Categorical Accuracy: 0.3978 - val_precision: 0.4152 - val_recall: 0.3040 - val_auc: 0.7426 - val_f1_score: 0.3496\n",
            "Epoch 8/50\n",
            "257/257 [==============================] - ETA: 0s - loss: 1.0019 - Categorical Accuracy: 0.5185 - precision: 0.5829 - recall: 0.3921 - auc: 0.8133 - f1_score: 0.4654\n",
            "Epoch 8: val_Categorical Accuracy did not improve from 0.52395\n",
            "257/257 [==============================] - 55s 212ms/step - loss: 1.0019 - Categorical Accuracy: 0.5185 - precision: 0.5829 - recall: 0.3921 - auc: 0.8133 - f1_score: 0.4654 - val_loss: 1.3719 - val_Categorical Accuracy: 0.4624 - val_precision: 0.5073 - val_recall: 0.3744 - val_auc: 0.7530 - val_f1_score: 0.4289\n",
            "Epoch 9/50\n",
            "257/257 [==============================] - ETA: 0s - loss: 0.9787 - Categorical Accuracy: 0.5293 - precision: 0.6004 - recall: 0.3978 - auc: 0.8199 - f1_score: 0.4744\n",
            "Epoch 9: val_Categorical Accuracy did not improve from 0.52395\n",
            "257/257 [==============================] - 55s 216ms/step - loss: 0.9787 - Categorical Accuracy: 0.5293 - precision: 0.6004 - recall: 0.3978 - auc: 0.8199 - f1_score: 0.4744 - val_loss: 1.2237 - val_Categorical Accuracy: 0.4389 - val_precision: 0.4286 - val_recall: 0.3314 - val_auc: 0.7498 - val_f1_score: 0.3703\n",
            "Epoch 10/50\n",
            "257/257 [==============================] - ETA: 0s - loss: 0.9823 - Categorical Accuracy: 0.5210 - precision: 0.5875 - recall: 0.3890 - auc: 0.8177 - f1_score: 0.4664\n",
            "Epoch 10: val_Categorical Accuracy did not improve from 0.52395\n",
            "257/257 [==============================] - 54s 211ms/step - loss: 0.9823 - Categorical Accuracy: 0.5210 - precision: 0.5875 - recall: 0.3890 - auc: 0.8177 - f1_score: 0.4664 - val_loss: 1.2807 - val_Categorical Accuracy: 0.3842 - val_precision: 0.4619 - val_recall: 0.3314 - val_auc: 0.7302 - val_f1_score: 0.3834\n",
            "Epoch 11/50\n",
            "257/257 [==============================] - ETA: 0s - loss: 0.9669 - Categorical Accuracy: 0.5312 - precision: 0.6001 - recall: 0.3965 - auc: 0.8230 - f1_score: 0.4739\n",
            "Epoch 11: val_Categorical Accuracy did not improve from 0.52395\n",
            "257/257 [==============================] - 54s 212ms/step - loss: 0.9669 - Categorical Accuracy: 0.5312 - precision: 0.6001 - recall: 0.3965 - auc: 0.8230 - f1_score: 0.4739 - val_loss: 1.2140 - val_Categorical Accuracy: 0.4027 - val_precision: 0.5167 - val_recall: 0.3333 - val_auc: 0.7383 - val_f1_score: 0.4015\n",
            "Epoch 12/50\n",
            "257/257 [==============================] - ETA: 0s - loss: 0.9695 - Categorical Accuracy: 0.5322 - precision: 0.5904 - recall: 0.3890 - auc: 0.8215 - f1_score: 0.4650\n",
            "Epoch 12: val_Categorical Accuracy did not improve from 0.52395\n",
            "257/257 [==============================] - 56s 217ms/step - loss: 0.9695 - Categorical Accuracy: 0.5322 - precision: 0.5904 - recall: 0.3890 - auc: 0.8215 - f1_score: 0.4650 - val_loss: 1.2355 - val_Categorical Accuracy: 0.4526 - val_precision: 0.5107 - val_recall: 0.3744 - val_auc: 0.7727 - val_f1_score: 0.4300\n",
            "Epoch 13/50\n",
            "257/257 [==============================] - ETA: 0s - loss: 0.9589 - Categorical Accuracy: 0.5339 - precision: 0.6065 - recall: 0.3919 - auc: 0.8251 - f1_score: 0.4756\n",
            "Epoch 13: val_Categorical Accuracy did not improve from 0.52395\n",
            "257/257 [==============================] - 55s 212ms/step - loss: 0.9589 - Categorical Accuracy: 0.5339 - precision: 0.6065 - recall: 0.3919 - auc: 0.8251 - f1_score: 0.4756 - val_loss: 1.3803 - val_Categorical Accuracy: 0.3421 - val_precision: 0.3896 - val_recall: 0.3069 - val_auc: 0.6952 - val_f1_score: 0.3407\n",
            "Epoch 13: early stopping\n"
          ]
        }
      ]
    },
    {
      "metadata": {
        "trusted": true,
        "colab": {
          "base_uri": "https://localhost:8080/",
          "height": 387
        },
        "id": "Xjp6eyFF5lM9",
        "outputId": "25d6dcff-2b5a-48f7-9445-4e1d88a393cc"
      },
      "cell_type": "code",
      "source": [
        "#%% PLOTTING RESULTS (Train vs Validation FOLDER 1)\n",
        "\n",
        "def Train_Val_Plot(acc,val_acc,loss,val_loss,recall,val_recall,precision,val_precision,f1,val_f1):\n",
        "    \n",
        "    fig, (ax1, ax2,ax3,ax4,ax5) = plt.subplots(1,5, figsize= (20,5))\n",
        "    fig.suptitle(\" MODEL'S METRICS VISUALIZATION \")\n",
        "\n",
        "    ax1.plot(range(1, len(acc) + 1), acc)\n",
        "    ax1.plot(range(1, len(val_acc) + 1), val_acc)\n",
        "    ax1.set_title('History of Accuracy')\n",
        "    ax1.set_xlabel('Epochs')\n",
        "    ax1.set_ylabel('Accuracy')\n",
        "    ax1.legend(['training', 'validation'])\n",
        "\n",
        "\n",
        "    ax2.plot(range(1, len(loss) + 1), loss)\n",
        "    ax2.plot(range(1, len(val_loss) + 1), val_loss)\n",
        "    ax2.set_title('History of Loss')\n",
        "    ax2.set_xlabel('Epochs')\n",
        "    ax2.set_ylabel('Loss')\n",
        "    ax2.legend(['training', 'validation'])\n",
        "    \n",
        "    ax3.plot(range(1, len(recall) + 1), recall)\n",
        "    ax3.plot(range(1, len(val_recall) + 1), val_recall)\n",
        "    ax3.set_title('History of recall')\n",
        "    ax3.set_xlabel('Epochs')\n",
        "    ax3.set_ylabel('recall')\n",
        "    ax3.legend(['training', 'validation'])\n",
        "    \n",
        "    ax4.plot(range(1, len(precision) + 1), precision)\n",
        "    ax4.plot(range(1, len(val_precision) + 1), val_precision)\n",
        "    ax4.set_title('History of Precision')\n",
        "    ax4.set_xlabel('Epochs')\n",
        "    ax4.set_ylabel('Precision')\n",
        "    ax4.legend(['training', 'validation'])\n",
        "    \n",
        "    ax5.plot(range(1, len(f1) + 1), f1)\n",
        "    ax5.plot(range(1, len(val_f1) + 1), val_f1)\n",
        "    ax5.set_title('History of F1-score')\n",
        "    ax5.set_xlabel('Epochs')\n",
        "    ax5.set_ylabel('F1 score')\n",
        "    ax5.legend(['training', 'validation'])\n",
        "\n",
        "\n",
        "    plt.show()\n",
        "    \n",
        "print(history.history.keys())\n",
        "Train_Val_Plot(history.history['Categorical Accuracy'],history.history['val_Categorical Accuracy'],\n",
        "               history.history['loss'],history.history['val_loss'],\n",
        "               history.history['recall'],history.history['val_recall'],\n",
        "               history.history['precision'],history.history['val_precision'],\n",
        "               history.history['f1_score'],history.history['val_f1_score']\n",
        "              )"
      ],
      "execution_count": 23,
      "outputs": [
        {
          "output_type": "stream",
          "name": "stdout",
          "text": [
            "dict_keys(['loss', 'Categorical Accuracy', 'precision', 'recall', 'auc', 'f1_score', 'val_loss', 'val_Categorical Accuracy', 'val_precision', 'val_recall', 'val_auc', 'val_f1_score'])\n"
          ]
        },
        {
          "output_type": "display_data",
          "data": {
            "text/plain": [
              "<Figure size 1440x360 with 5 Axes>"
            ],
            "image/png": "[encoded data removed]"
          },
          "metadata": {
            "needs_background": "light"
          }
        }
      ]
    },
    {
      "metadata": {
        "trusted": true,
        "colab": {
          "base_uri": "https://localhost:8080/"
        },
        "id": "ecuxsA2-5lM-",
        "outputId": "cc2cf199-1e75-42a3-8e7c-46ca3c197542"
      },
      "cell_type": "code",
      "source": [
        "scores = model.evaluate(test_dataset)"
      ],
      "execution_count": 24,
      "outputs": [
        {
          "output_type": "stream",
          "name": "stdout",
          "text": [
            "1279/1279 [==============================] - 25s 19ms/step - loss: 0.9762 - Categorical Accuracy: 0.4738 - precision: 0.5546 - recall: 0.3456 - auc: 0.8068 - f1_score: 0.3456\n"
          ]
        }
      ]
    },
    {
      "metadata": {
        "trusted": true,
        "colab": {
          "base_uri": "https://localhost:8080/"
        },
        "id": "bgE7pqFv5lM-",
        "outputId": "e98fe5d1-8d9f-4d97-a106-e22a3cb80c86"
      },
      "cell_type": "code",
      "source": [
        "print(\"Accuracy = \", scores[1])\n",
        "print(\"Precision = \", scores[2])\n",
        "print(\"Recall = \", scores[3])\n",
        "print(\"F1_score = \", scores[4])"
      ],
      "execution_count": 25,
      "outputs": [
        {
          "output_type": "stream",
          "name": "stdout",
          "text": [
            "Accuracy =  0.4738076627254486\n",
            "Precision =  0.5545796751976013\n",
            "Recall =  0.3455824851989746\n",
            "F1_score =  0.806845486164093\n"
          ]
        }
      ]
    },
    {
      "cell_type": "code",
      "source": [
        "true_classes = test_dataset.classes\n",
        "class_indices = test_dataset.class_indices\n",
        "class_indices = dict((v,k) for k,v in class_indices.items())\n",
        "\n",
        "resnet50_preds = model.predict(test_dataset)\n",
        "resnet50_pred_classes = np.argmax(resnet50_preds, axis=1)"
      ],
      "metadata": {
        "colab": {
          "base_uri": "https://localhost:8080/"
        },
        "id": "4prpCiM58LIM",
        "outputId": "206a39fc-d4d8-473a-d686-223c4f64ce33"
      },
      "execution_count": 26,
      "outputs": [
        {
          "output_type": "stream",
          "name": "stdout",
          "text": [
            "1279/1279 [==============================] - 22s 16ms/step\n"
          ]
        }
      ]
    },
    {
      "cell_type": "code",
      "source": [
        "import seaborn as sns\n",
        "from sklearn.metrics import confusion_matrix\n",
        "\n",
        "# Get the names of the ten classes\n",
        "class_names = test_dataset.class_indices.keys()\n",
        "\n",
        "def plot_heatmap(y_true, y_pred):\n",
        "    cm = confusion_matrix(y_true, y_pred)\n",
        "    sns.heatmap(\n",
        "        cm, \n",
        "        annot=True, \n",
        "        square=True, \n",
        "        fmt='d', \n",
        "        cmap=plt.cm.Blues,\n",
        "        cbar=False,\n",
        "    )\n",
        "\n",
        "plt.figure()\n",
        "plot_heatmap(true_classes, resnet50_pred_classes)    \n",
        "\n",
        "plt.show()"
      ],
      "metadata": {
        "colab": {
          "base_uri": "https://localhost:8080/",
          "height": 265
        },
        "id": "m4WzrxBi8otU",
        "outputId": "38d40c33-e672-4ef6-8ab4-46a95855db88"
      },
      "execution_count": 27,
      "outputs": [
        {
          "output_type": "display_data",
          "data": {
            "text/plain": [
              "<Figure size 432x288 with 1 Axes>"
            ],
            "image/png": "[encoded data removed]"
          },
          "metadata": {
            "needs_background": "light"
          }
        }
      ]
    },
    {
      "cell_type": "code",
      "source": [
        "! pip install -q kaggle\n",
        "from google.colab import files\n",
        "files.upload()\n",
        "! mkdir ~/.kaggle\n",
        "! cp kaggle.json ~/.kaggle/\n",
        "! chmod 600 ~/.kaggle/kaggle.json\n",
        "#!kaggle datasets download -d tourist55/alzheimers-dataset-4-class-of-images\n",
        "!kaggle datasets download -d sachinkumar413/alzheimer-mri-dataset"
      ],
      "metadata": {
        "colab": {
          "base_uri": "https://localhost:8080/",
          "height": 142
        },
        "id": "qKAEiHPr_LSw",
        "outputId": "3bad5489-cecc-40f0-87b8-5a532b018f0a"
      },
      "execution_count": 28,
      "outputs": [
        {
          "output_type": "display_data",
          "data": {
            "text/plain": [
              "<IPython.core.display.HTML object>"
            ],
            "text/html": [
              "\n",
              "     <input type=\"file\" id=\"files-f55acb08-942f-4b06-ba20-362a840e2f52\" name=\"files[]\" multiple disabled\n",
              "        style=\"border:none\" />\n",
              "     <output id=\"result-f55acb08-942f-4b06-ba20-362a840e2f52\">\n",
              "      Upload widget is only available when the cell has been executed in the\n",
              "      current browser session. Please rerun this cell to enable.\n",
              "      </output>\n",
              "      <script>// Copyright 2017 Google LLC\n",
              "//\n",
              "// Licensed under the Apache License, Version 2.0 (the \"License\");\n",
              "// you may not use this file except in compliance with the License.\n",
              "// You may obtain a copy of the License at\n",
              "//\n",
              "//      http://www.apache.org/licenses/LICENSE-2.0\n",
              "//\n",
              "// Unless required by applicable law or agreed to in writing, software\n",
              "// distributed under the License is distributed on an \"AS IS\" BASIS,\n",
              "// WITHOUT WARRANTIES OR CONDITIONS OF ANY KIND, either express or implied.\n",
              "// See the License for the specific language governing permissions and\n",
              "// limitations under the License.\n",
              "\n",
              "/**\n",
              " * @fileoverview Helpers for google.colab Python module.\n",
              " */\n",
              "(function(scope) {\n",
              "function span(text, styleAttributes = {}) {\n",
              "  const element = document.createElement('span');\n",
              "  element.textContent = text;\n",
              "  for (const key of Object.keys(styleAttributes)) {\n",
              "    element.style[key] = styleAttributes[key];\n",
              "  }\n",
              "  return element;\n",
              "}\n",
              "\n",
              "// Max number of bytes which will be uploaded at a time.\n",
              "const MAX_PAYLOAD_SIZE = 100 * 1024;\n",
              "\n",
              "function _uploadFiles(inputId, outputId) {\n",
              "  const steps = uploadFilesStep(inputId, outputId);\n",
              "  const outputElement = document.getElementById(outputId);\n",
              "  // Cache steps on the outputElement to make it available for the next call\n",
              "  // to uploadFilesContinue from Python.\n",
              "  outputElement.steps = steps;\n",
              "\n",
              "  return _uploadFilesContinue(outputId);\n",
              "}\n",
              "\n",
              "// This is roughly an async generator (not supported in the browser yet),\n",
              "// where there are multiple asynchronous steps and the Python side is going\n",
              "// to poll for completion of each step.\n",
              "// This uses a Promise to block the python side on completion of each step,\n",
              "// then passes the result of the previous step as the input to the next step.\n",
              "function _uploadFilesContinue(outputId) {\n",
              "  const outputElement = document.getElementById(outputId);\n",
              "  const steps = outputElement.steps;\n",
              "\n",
              "  const next = steps.next(outputElement.lastPromiseValue);\n",
              "  return Promise.resolve(next.value.promise).then((value) => {\n",
              "    // Cache the last promise value to make it available to the next\n",
              "    // step of the generator.\n",
              "    outputElement.lastPromiseValue = value;\n",
              "    return next.value.response;\n",
              "  });\n",
              "}\n",
              "\n",
              "/**\n",
              " * Generator function which is called between each async step of the upload\n",
              " * process.\n",
              " * @param {string} inputId Element ID of the input file picker element.\n",
              " * @param {string} outputId Element ID of the output display.\n",
              " * @return {!Iterable<!Object>} Iterable of next steps.\n",
              " */\n",
              "function* uploadFilesStep(inputId, outputId) {\n",
              "  const inputElement = document.getElementById(inputId);\n",
              "  inputElement.disabled = false;\n",
              "\n",
              "  const outputElement = document.getElementById(outputId);\n",
              "  outputElement.innerHTML = '';\n",
              "\n",
              "  const pickedPromise = new Promise((resolve) => {\n",
              "    inputElement.addEventListener('change', (e) => {\n",
              "      resolve(e.target.files);\n",
              "    });\n",
              "  });\n",
              "\n",
              "  const cancel = document.createElement('button');\n",
              "  inputElement.parentElement.appendChild(cancel);\n",
              "  cancel.textContent = 'Cancel upload';\n",
              "  const cancelPromise = new Promise((resolve) => {\n",
              "    cancel.onclick = () => {\n",
              "      resolve(null);\n",
              "    };\n",
              "  });\n",
              "\n",
              "  // Wait for the user to pick the files.\n",
              "  const files = yield {\n",
              "    promise: Promise.race([pickedPromise, cancelPromise]),\n",
              "    response: {\n",
              "      action: 'starting',\n",
              "    }\n",
              "  };\n",
              "\n",
              "  cancel.remove();\n",
              "\n",
              "  // Disable the input element since further picks are not allowed.\n",
              "  inputElement.disabled = true;\n",
              "\n",
              "  if (!files) {\n",
              "    return {\n",
              "      response: {\n",
              "        action: 'complete',\n",
              "      }\n",
              "    };\n",
              "  }\n",
              "\n",
              "  for (const file of files) {\n",
              "    const li = document.createElement('li');\n",
              "    li.append(span(file.name, {fontWeight: 'bold'}));\n",
              "    li.append(span(\n",
              "        `(${file.type || 'n/a'}) - ${file.size} bytes, ` +\n",
              "        `last modified: ${\n",
              "            file.lastModifiedDate ? file.lastModifiedDate.toLocaleDateString() :\n",
              "                                    'n/a'} - `));\n",
              "    const percent = span('0% done');\n",
              "    li.appendChild(percent);\n",
              "\n",
              "    outputElement.appendChild(li);\n",
              "\n",
              "    const fileDataPromise = new Promise((resolve) => {\n",
              "      const reader = new FileReader();\n",
              "      reader.onload = (e) => {\n",
              "        resolve(e.target.result);\n",
              "      };\n",
              "      reader.readAsArrayBuffer(file);\n",
              "    });\n",
              "    // Wait for the data to be ready.\n",
              "    let fileData = yield {\n",
              "      promise: fileDataPromise,\n",
              "      response: {\n",
              "        action: 'continue',\n",
              "      }\n",
              "    };\n",
              "\n",
              "    // Use a chunked sending to avoid message size limits. See b/62115660.\n",
              "    let position = 0;\n",
              "    do {\n",
              "      const length = Math.min(fileData.byteLength - position, MAX_PAYLOAD_SIZE);\n",
              "      const chunk = new Uint8Array(fileData, position, length);\n",
              "      position += length;\n",
              "\n",
              "      const base64 = btoa(String.fromCharCode.apply(null, chunk));\n",
              "      yield {\n",
              "        response: {\n",
              "          action: 'append',\n",
              "          file: file.name,\n",
              "          data: base64,\n",
              "        },\n",
              "      };\n",
              "\n",
              "      let percentDone = fileData.byteLength === 0 ?\n",
              "          100 :\n",
              "          Math.round((position / fileData.byteLength) * 100);\n",
              "      percent.textContent = `${percentDone}% done`;\n",
              "\n",
              "    } while (position < fileData.byteLength);\n",
              "  }\n",
              "\n",
              "  // All done.\n",
              "  yield {\n",
              "    response: {\n",
              "      action: 'complete',\n",
              "    }\n",
              "  };\n",
              "}\n",
              "\n",
              "scope.google = scope.google || {};\n",
              "scope.google.colab = scope.google.colab || {};\n",
              "scope.google.colab._files = {\n",
              "  _uploadFiles,\n",
              "  _uploadFilesContinue,\n",
              "};\n",
              "})(self);\n",
              "</script> "
            ]
          },
          "metadata": {}
        },
        {
          "output_type": "stream",
          "name": "stdout",
          "text": [
            "Saving kaggle.json to kaggle (1).json\n",
            "mkdir: cannot create directory ‘/root/.kaggle’: File exists\n",
            "Downloading alzheimer-mri-dataset.zip to /content\n",
            " 61% 17.0M/28.0M [00:00<00:00, 49.6MB/s]\n",
            "100% 28.0M/28.0M [00:00<00:00, 65.1MB/s]\n"
          ]
        }
      ]
    },
    {
      "cell_type": "code",
      "source": [
        "import zipfile\n",
        "local_zip = '/content/alzheimer-mri-dataset.zip'\n",
        "data = zipfile.ZipFile(local_zip, 'r')\n",
        "data.extractall('/content/Alzheimer_s Dataset_2')\n",
        "data.close()"
      ],
      "metadata": {
        "id": "7wbp7Lhx82as"
      },
      "execution_count": 29,
      "outputs": []
    },
    {
      "cell_type": "code",
      "source": [
        "from google.colab import drive\n",
        "drive.mount('/content/drive')"
      ],
      "metadata": {
        "colab": {
          "base_uri": "https://localhost:8080/"
        },
        "id": "rClYKivgEDeQ",
        "outputId": "89080909-0390-4336-f27d-0ded3b9d9edc"
      },
      "execution_count": 30,
      "outputs": [
        {
          "output_type": "stream",
          "name": "stdout",
          "text": [
            "Drive already mounted at /content/drive; to attempt to forcibly remount, call drive.mount(\"/content/drive\", force_remount=True).\n"
          ]
        }
      ]
    },
    {
      "cell_type": "code",
      "source": [
        "test_datagen2  = ImageDataGenerator(rescale = 1./255)\n",
        "# Test Data \n",
        "\n",
        "test_dataset2  = test_datagen.flow_from_directory(directory = '/content/Alzheimer_s Dataset_2/Dataset',\n",
        "                                                 target_size = (224,224),\n",
        "                                                 class_mode = 'categorical',\n",
        "                                                 batch_size = 1)"
      ],
      "metadata": {
        "colab": {
          "base_uri": "https://localhost:8080/"
        },
        "id": "s_mJT1or82Rn",
        "outputId": "29a569b7-67d3-4d5b-8cbf-a0f52bd67a88"
      },
      "execution_count": 31,
      "outputs": [
        {
          "output_type": "stream",
          "name": "stdout",
          "text": [
            "Found 6400 images belonging to 4 classes.\n"
          ]
        }
      ]
    },
    {
      "cell_type": "code",
      "source": [
        "# Model Compile \n",
        "\n",
        "OPT    = tensorflow.keras.optimizers.Adam(lr=0.001)\n",
        "METRICS = [\n",
        "      tensorflow.keras.metrics.CategoricalAccuracy(name='Categorical Accuracy'),\n",
        "      tensorflow.keras.metrics.Precision(name='precision'),\n",
        "      tensorflow.keras.metrics.Recall(name='recall'),  \n",
        "        f1_score,\n",
        "          ]\n",
        "model.compile(loss='categorical_crossentropy',\n",
        "              metrics=METRICS,\n",
        "              optimizer=OPT)"
      ],
      "metadata": {
        "colab": {
          "base_uri": "https://localhost:8080/"
        },
        "id": "j8HiV0Gi82Ie",
        "outputId": "48df8e19-e3db-45b6-dc69-02dc0ef22345"
      },
      "execution_count": 32,
      "outputs": [
        {
          "output_type": "stream",
          "name": "stderr",
          "text": [
            "/usr/local/lib/python3.8/dist-packages/keras/optimizers/optimizer_v2/adam.py:110: UserWarning: The `lr` argument is deprecated, use `learning_rate` instead.\n",
            "  super(Adam, self).__init__(name, **kwargs)\n"
          ]
        }
      ]
    },
    {
      "cell_type": "code",
      "source": [
        "# Evaluating Loss and AUC\n",
        "\n",
        "model.evaluate(test_dataset2)"
      ],
      "metadata": {
        "colab": {
          "base_uri": "https://localhost:8080/"
        },
        "id": "I73h2Peb81-H",
        "outputId": "f28fda30-4489-42de-aee9-3d44b98c90f1"
      },
      "execution_count": 33,
      "outputs": [
        {
          "output_type": "stream",
          "name": "stdout",
          "text": [
            "6400/6400 [==============================] - 143s 22ms/step - loss: 0.9787 - Categorical Accuracy: 0.4917 - precision: 0.5491 - recall: 0.4009 - f1_score: 0.4009\n"
          ]
        },
        {
          "output_type": "execute_result",
          "data": {
            "text/plain": [
              "[0.9787256717681885,\n",
              " 0.49171873927116394,\n",
              " 0.5491119027137756,\n",
              " 0.4009374976158142,\n",
              " 0.4009374678134918]"
            ]
          },
          "metadata": {},
          "execution_count": 33
        }
      ]
    },
    {
      "cell_type": "code",
      "source": [],
      "metadata": {
        "id": "v-ZAT4WGgSCe"
      },
      "execution_count": null,
      "outputs": []
    },
    {
      "cell_type": "code",
      "source": [],
      "metadata": {
        "id": "d1WUHvWXgR8z"
      },
      "execution_count": null,
      "outputs": []
    },
    {
      "cell_type": "code",
      "source": [],
      "metadata": {
        "id": "MPfxDiJSgR5R"
      },
      "execution_count": null,
      "outputs": []
    },
    {
      "cell_type": "code",
      "source": [],
      "metadata": {
        "id": "QT8KIY4OgR13"
      },
      "execution_count": null,
      "outputs": []
    },
    {
      "cell_type": "code",
      "source": [],
      "metadata": {
        "id": "UPItWtLngRyR"
      },
      "execution_count": null,
      "outputs": []
    },
    {
      "cell_type": "code",
      "source": [],
      "metadata": {
        "id": "_Va5TwangRlR"
      },
      "execution_count": null,
      "outputs": []
    },
    {
      "cell_type": "code",
      "source": [
        "def predict_prob(number):\n",
        "  return [number[0],1-number[0]]"
      ],
      "metadata": {
        "id": "ej_KLznqEi9M"
      },
      "execution_count": null,
      "outputs": []
    },
    {
      "cell_type": "code",
      "source": [
        "from tensorflow.keras.preprocessing.image import load_img, img_to_array\n",
        "dic = test_dataset.class_indices\n",
        "idc = {k:v for v, k in dic.items()}\n",
        "\n",
        "img = load_img('/content/Alzheimer_s Dataset/Alzheimer_s Dataset/test/NonDemented/26 (95).jpg', target_size = (224,224,3))\n",
        "img = img_to_array(img)\n",
        "img = img/255\n",
        "imshow(img)\n",
        "plt.axis('off')\n",
        "img = np.expand_dims(img,axis=0)\n",
        "\n",
        "classes = np.argmax(model.predict(img),axis=1)\n",
        "\n",
        "probability = round(np.max(model.predict(img)*100),2)\n",
        "\n",
        "\n",
        "print(probability, '% chances are there that the image is', classes)"
      ],
      "metadata": {
        "id": "6f0b80ZeE6rM"
      },
      "execution_count": null,
      "outputs": []
    },
    {
      "cell_type": "code",
      "source": [],
      "metadata": {
        "id": "q2zSsUa7FqJC"
      },
      "execution_count": null,
      "outputs": []
    }
  ],
  "metadata": {
    "kernelspec": {
      "name": "python3",
      "display_name": "Python 3",
      "language": "python"
    },
    "language_info": {
      "name": "python",
      "version": "3.7.6",
      "mimetype": "text/x-python",
      "codemirror_mode": {
        "name": "ipython",
        "version": 3
      },
      "pygments_lexer": "ipython3",
      "nbconvert_exporter": "python",
      "file_extension": ".py"
    },
    "colab": {
      "provenance": []
    },
    "gpuClass": "standard",
    "accelerator": "GPU"
  },
  "nbformat": 4,
  "nbformat_minor": 0
}